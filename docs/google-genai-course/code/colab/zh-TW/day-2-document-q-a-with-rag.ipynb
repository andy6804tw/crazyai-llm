{
 "cells": [
  {
   "cell_type": "markdown",
   "id": "6d268cb0-df8e-4c4b-ace9-1c0cf2b9460d",
   "metadata": {},
   "source": [
    "# Day 2 - Document Q&A with RAG using Chroma\n",
    "歡迎回來參加 Kaggle 5 天生成式 AI 課程！\n",
    "\n",
    "**注意**：Day 1 筆記本中包含了許多設定 Kaggle 筆記本的相關資訊。如果你遇到任何問題，請參考[那邊的故障排除步驟](https://www.kaggle.com/code/markishere/day-1-prompting#Get-started-with-Kaggle-notebooks)。\n",
    "\n",
    "大型語言模型（LLM）有兩個主要的限制：1) 它們僅「知道」訓練期間接觸過的資訊，2) 輸入內容的長度有限。解決這兩個限制的方法之一，就是採用檢索增強生成技術（Retrieval Augmented Generation, RAG）。一個 RAG 系統包含三個階段：\n",
    "\n",
    "1. 索引建立\n",
    "2. 文件檢索\n",
    "3. 回答生成\n",
    "\n",
    "索引建立是在查詢前預先進行的，可以讓你在查詢時迅速查找相關資訊。當收到查詢後，系統會檢索出相關文件，將文件內容與指示與使用者查詢結合，再利用大型語言模型生成符合查詢需求的自然語言答案。這使得你可以提供模型訓練期間未曾見過的資訊，例如產品專屬知識或即時天氣更新。\n",
    "\n",
    "在這個筆記本中，你將使用 Gemini API 建立向量資料庫，從資料庫中檢索文件來回答問題，並生成最終答案。你會使用 [Chroma](https://docs.trychroma.com/)，這是一個開源的向量資料庫。利用 Chroma，你可以儲存嵌入向量以及元資料，對文件和查詢進行嵌入，並搜尋文件。\n",
    "\n",
    "## 幫助\n",
    "\n",
    "**常見問題請參考** [FAQ 與故障排除指南](https://www.kaggle.com/code/markishere/day-0-troubleshooting-and-faqs)。\n",
    "\n",
    "## 環境設定\n",
    "\n",
    "首先，請安裝 ChromaDB 與 Gemini API 的 Python SDK。"
   ]
  },
  {
   "cell_type": "code",
   "execution_count": 1,
   "id": "5acedaac-5810-4303-b465-e76709fbd607",
   "metadata": {},
   "outputs": [],
   "source": [
    "!pip uninstall -qqy jupyterlab kfp  # 移除未使用且可能衝突的套件\n",
    "!pip install -qU \"google-genai==1.7.0\" \"chromadb==0.6.3\""
   ]
  },
  {
   "cell_type": "code",
   "execution_count": 7,
   "id": "679f3948-c75e-404c-912f-7eba64da2930",
   "metadata": {},
   "outputs": [
    {
     "data": {
      "text/plain": [
       "'1.7.0'"
      ]
     },
     "execution_count": 7,
     "metadata": {},
     "output_type": "execute_result"
    }
   ],
   "source": [
    "from google import genai\n",
    "from google.genai import types\n",
    "\n",
    "from IPython.display import Markdown\n",
    "\n",
    "genai.__version__"
   ]
  },
  {
   "cell_type": "markdown",
   "id": "e638b21c-214f-4f63-bc1b-fdea6d0944c8",
   "metadata": {},
   "source": [
    "### 設定 API 金鑰\n",
    "\n",
    "請先將 `YOUR_GOOGLE_API_KEY` 替換成自己的 API 金鑰。  \n",
    "若你還沒有 API 金鑰，可前往 [AI Studio](https://aistudio.google.com/app/apikey) 取得，詳情請參考 [Gemini API 文件](https://ai.google.dev/gemini-api/docs/api-key)。\n"
   ]
  },
  {
   "cell_type": "code",
   "execution_count": 1,
   "id": "c3b3cd65-7b60-4a88-aff8-9bfa2a94f4be",
   "metadata": {},
   "outputs": [],
   "source": [
    "GOOGLE_API_KEY = 'YOUR_GOOGLE_API_KEY'"
   ]
  },
  {
   "cell_type": "markdown",
   "id": "b54558ee-45f2-45e9-9d6c-f5a93dcc1c67",
   "metadata": {},
   "source": [
    "### 探索可用模型\n",
    "\n",
    "在本範例中，你會使用 [`embedContent`](https://ai.google.dev/api/embeddings#method:-models.embedcontent) API 方法來計算嵌入向量。請透過 [`models.list`](https://ai.google.dev/api/models#method:-models.list) 端點尋找支援此方法的模型。你也可以在 [模型頁面](https://ai.google.dev/gemini-api/docs/models/gemini#text-embedding) 中找到更多關於嵌入模型的資訊。\n",
    "\n",
    "`text-embedding-004` 是目前最新且普遍可用的嵌入模型，因此在這個範例中你將使用它，但也可以試試實驗性的 `gemini-embedding-exp-03-07` 模型。\n",
    "\n",
    "> Google Gemini 的 text-embedding-004 目前不建議用繁體中文\n"
   ]
  },
  {
   "cell_type": "code",
   "execution_count": 8,
   "id": "7692e5f6-5f5b-499e-9fc5-d43557215e9a",
   "metadata": {},
   "outputs": [
    {
     "name": "stdout",
     "output_type": "stream",
     "text": [
      "models/embedding-001\n",
      "models/text-embedding-004\n",
      "models/gemini-embedding-exp-03-07\n",
      "models/gemini-embedding-exp\n"
     ]
    }
   ],
   "source": [
    "client = genai.Client(api_key=GOOGLE_API_KEY)\n",
    "\n",
    "for m in client.models.list():\n",
    "    if \"embedContent\" in m.supported_actions:\n",
    "        print(m.name)"
   ]
  },
  {
   "cell_type": "markdown",
   "id": "044881ba-01bd-4b77-9a59-5bdf5436b06e",
   "metadata": {},
   "source": [
    "### 資料\n",
    "以下是一組小型文件資料集，你將用它們來建立嵌入資料庫。\n"
   ]
  },
  {
   "cell_type": "code",
   "execution_count": 18,
   "id": "562669c3-9fe2-47e4-b686-4e83fced45ca",
   "metadata": {},
   "outputs": [],
   "source": [
    "DOCUMENT1 = \"Operating the Climate Control System  Your Googlecar has a climate control system that allows you to adjust the temperature and airflow in the car. To operate the climate control system, use the buttons and knobs located on the center console.  Temperature: The temperature knob controls the temperature inside the car. Turn the knob clockwise to increase the temperature or counterclockwise to decrease the temperature. Airflow: The airflow knob controls the amount of airflow inside the car. Turn the knob clockwise to increase the airflow or counterclockwise to decrease the airflow. Fan speed: The fan speed knob controls the speed of the fan. Turn the knob clockwise to increase the fan speed or counterclockwise to decrease the fan speed. Mode: The mode button allows you to select the desired mode. The available modes are: Auto: The car will automatically adjust the temperature and airflow to maintain a comfortable level. Cool: The car will blow cool air into the car. Heat: The car will blow warm air into the car. Defrost: The car will blow warm air onto the windshield to defrost it.\"\n",
    "DOCUMENT2 = 'Your Googlecar has a large touchscreen display that provides access to a variety of features, including navigation, entertainment, and climate control. To use the touchscreen display, simply touch the desired icon.  For example, you can touch the \"Navigation\" icon to get directions to your destination or touch the \"Music\" icon to play your favorite songs.'\n",
    "DOCUMENT3 = \"Shifting Gears Your Googlecar has an automatic transmission. To shift gears, simply move the shift lever to the desired position.  Park: This position is used when you are parked. The wheels are locked and the car cannot move. Reverse: This position is used to back up. Neutral: This position is used when you are stopped at a light or in traffic. The car is not in gear and will not move unless you press the gas pedal. Drive: This position is used to drive forward. Low: This position is used for driving in snow or other slippery conditions.\"\n",
    "\n",
    "documents = [DOCUMENT1, DOCUMENT2, DOCUMENT3]"
   ]
  },
  {
   "cell_type": "markdown",
   "id": "c5c275b8-d8de-436b-92d0-b5fea91c70bf",
   "metadata": {},
   "source": [
    "## 使用 ChromaDB 建立嵌入資料庫\n",
    "\n",
    "首先，建立一個 [自訂函式](https://docs.trychroma.com/guides/embeddings#custom-embedding-functions) 用以透過 Gemini API 生成嵌入向量。在這個任務中，你要實作一個檢索系統，因此針對*文件*生成嵌入時，其 `task_type` 設為 `retrieval_document`；稍後針對*查詢*生成嵌入時，則使用 `retrieval_query`。請參考 [API 文件](https://ai.google.dev/api/embeddings#v1beta.TaskType) 以獲得完整支援的任務類型清單。\n",
    "\n",
    "關鍵說明：資料庫中的項目稱為「文件」，這些文件會先被寫入資料庫，稍後再檢索。查詢則是文字搜尋字串，可以是簡單關鍵字或描述所需文件的文字內容。\n"
   ]
  },
  {
   "cell_type": "code",
   "execution_count": 10,
   "id": "7489efca-4402-4b69-bf54-565136455eb5",
   "metadata": {},
   "outputs": [],
   "source": [
    "from chromadb import Documents, EmbeddingFunction, Embeddings\n",
    "from google.api_core import retry\n",
    "\n",
    "from google.genai import types\n",
    "\n",
    "# 定義一個輔助函式，當每分鐘額度不足時進行重試\n",
    "is_retriable = lambda e: (isinstance(e, genai.errors.APIError) and e.code in {429, 503})\n",
    "\n",
    "class GeminiEmbeddingFunction(EmbeddingFunction):\n",
    "    # 指定是否為文件生成嵌入，或為查詢生成嵌入\n",
    "    document_mode = True\n",
    "\n",
    "    @retry.Retry(predicate=is_retriable)\n",
    "    def __call__(self, input: Documents) -> Embeddings:\n",
    "        if self.document_mode:\n",
    "            embedding_task = \"retrieval_document\"\n",
    "        else:\n",
    "            embedding_task = \"retrieval_query\"\n",
    "\n",
    "        response = client.models.embed_content(\n",
    "            model=\"models/text-embedding-004\",\n",
    "            contents=input,\n",
    "            config=types.EmbedContentConfig(\n",
    "                task_type=embedding_task,\n",
    "            ),\n",
    "        )\n",
    "        return [e.values for e in response.embeddings]"
   ]
  },
  {
   "cell_type": "markdown",
   "id": "29d64cee-3e83-4887-82d7-918949567de5",
   "metadata": {},
   "source": [
    "現在建立一個使用 GeminiEmbeddingFunction 的 [Chroma 資料庫](https://docs.trychroma.com/getting-started) client，並把上面定義好的文件加進資料庫裡。"
   ]
  },
  {
   "cell_type": "code",
   "execution_count": 11,
   "id": "c1ee3ed6-69ea-45e8-8428-3ffaadb34e10",
   "metadata": {},
   "outputs": [],
   "source": [
    "import chromadb\n",
    "\n",
    "DB_NAME = \"googlecardb\"\n",
    "\n",
    "embed_fn = GeminiEmbeddingFunction()\n",
    "embed_fn.document_mode = True\n",
    "\n",
    "chroma_client = chromadb.Client()\n",
    "db = chroma_client.get_or_create_collection(name=DB_NAME, embedding_function=embed_fn)\n",
    "\n",
    "db.add(documents=documents, ids=[str(i) for i in range(len(documents))])\n"
   ]
  },
  {
   "cell_type": "markdown",
   "id": "b94e6878-bdda-486a-a310-e06a037be715",
   "metadata": {},
   "source": [
    "你可以透過檢查資料庫的內容，確認文件是否已經成功寫入。以下檢查寫入的筆數。"
   ]
  },
  {
   "cell_type": "code",
   "execution_count": 12,
   "id": "fde8899c-203e-41f8-9e87-9c909309f7cd",
   "metadata": {},
   "outputs": [
    {
     "data": {
      "text/plain": [
       "3"
      ]
     },
     "execution_count": 12,
     "metadata": {},
     "output_type": "execute_result"
    }
   ],
   "source": [
    "print(\"資料庫中文件數：\", db.count())\n",
    "# 你也可以預覽資料內容：\n",
    "# db.peek(0)"
   ]
  },
  {
   "cell_type": "markdown",
   "id": "5cf17ef4-b281-4b98-a37c-86a3c0e54778",
   "metadata": {},
   "source": [
    "## 檢索(Retrieval)：尋找相關文件\n",
    "\n",
    "要在 Chroma 資料庫中進行搜尋，請呼叫 `query` 方法。注意，此時要切換至 `retrieval_query` 模式來生成查詢的嵌入向量。\n"
   ]
  },
  {
   "cell_type": "code",
   "execution_count": 17,
   "id": "b64d0f78-2306-4a21-b7c5-8cf4ace70b5f",
   "metadata": {},
   "outputs": [
    {
     "data": {
      "text/markdown": [
       "Your Googlecar has a large touchscreen display that provides access to a variety of features, including navigation, entertainment, and climate control. To use the touchscreen display, simply touch the desired icon.  For example, you can touch the \"Navigation\" icon to get directions to your destination or touch the \"Music\" icon to play your favorite songs."
      ],
      "text/plain": [
       "<IPython.core.display.Markdown object>"
      ]
     },
     "execution_count": 17,
     "metadata": {},
     "output_type": "execute_result"
    }
   ],
   "source": [
    "# 切換至查詢模式以生成嵌入向量\n",
    "embed_fn.document_mode = False\n",
    "\n",
    "# 使用指定查詢搜尋 Chroma 資料庫\n",
    "query = \"How do you use the touchscreen to play music?\"\n",
    "\n",
    "result = db.query(query_texts=[query], n_results=1)\n",
    "[all_passages] = result[\"documents\"]\n",
    "\n",
    "Markdown(all_passages[0])"
   ]
  },
  {
   "cell_type": "markdown",
   "id": "61a17e39-3a99-4aba-8509-95e94c9b3848",
   "metadata": {},
   "source": [
    "## 增強生成(Augmented generation)：回答問題\n",
    "\n",
    "既然你已經從文件集中檢索到一個相關段落（檢索步驟），接下來就可以組合生成提示，讓 Gemini API 根據該提示生成最終答案。請注意，在此例中僅檢索到單一段落。在實務上，尤其當底層資料集規模龐大時，你會希望檢索多個結果，並讓 Gemini 模型判斷哪些段落與問題回答最相關。因此，即使部分檢索結果與問題無直接關係也沒關係，此生成步驟會忽略不相干內容。\n"
   ]
  },
  {
   "cell_type": "code",
   "execution_count": 14,
   "id": "fc262bcc-aa26-4550-ba5d-9a6355c4ebd0",
   "metadata": {},
   "outputs": [
    {
     "name": "stdout",
     "output_type": "stream",
     "text": [
      "你是一個友善且資訊豐富的機器人，請利用以下參考段落回答問題。\n",
      "請務必以完整句子回覆，內容要詳盡且包含所有相關背景資訊。\n",
      "但由於對象是非技術使用者，請分解複雜概念，並採用友善且口語化的語氣。如果段落與答案無關，你可以忽略它。\n",
      "\n",
      "問題：How do you use the touchscreen to play music?\n",
      "段落：Your Googlecar has a large touchscreen display that provides access to a variety of features, including navigation, entertainment, and climate control. To use the touchscreen display, simply touch the desired icon.  For example, you can touch the \"Navigation\" icon to get directions to your destination or touch the \"Music\" icon to play your favorite songs.\n",
      "\n"
     ]
    }
   ],
   "source": [
    "query_oneline = query.replace(\"\\n\", \" \")\n",
    "\n",
    "# 此提示可用來指示模型的語氣、應遵循或避免的主題等。\n",
    "prompt = f\"\"\"你是一個友善且資訊豐富的機器人，請利用以下參考段落回答問題。\n",
    "請務必以完整句子回覆，內容要詳盡且包含所有相關背景資訊。\n",
    "但由於對象是非技術使用者，請分解複雜概念，並採用友善且口語化的語氣。如果段落與答案無關，你可以忽略它。\n",
    "\n",
    "問題：{query_oneline}\n",
    "\"\"\"\n",
    "\n",
    "# 將檢索到的文件段落加入提示中\n",
    "for passage in all_passages:\n",
    "    passage_oneline = passage.replace(\"\\n\", \" \")\n",
    "    prompt += f\"段落：{passage_oneline}\\n\"\n",
    "\n",
    "print(prompt)"
   ]
  },
  {
   "cell_type": "markdown",
   "id": "1643bc38-2578-4593-8162-c50761089e44",
   "metadata": {},
   "source": [
    "接著使用 generate_content 方法來產生這個問題的回答。"
   ]
  },
  {
   "cell_type": "code",
   "execution_count": 15,
   "id": "d9a8350f-00c0-430a-9b2b-0a3821e5cabc",
   "metadata": {},
   "outputs": [
    {
     "data": {
      "text/markdown": [
       "要用 Googlecar 的觸控螢幕來播放音樂非常簡單喔！想像一下，你的 Googlecar 有一個很大的平板電腦螢幕，那就是觸控螢幕啦！這個螢幕有很多功能，像是幫你導航、讓你聽音樂、調整冷氣等等。\n",
       "\n",
       "如果你想聽音樂，只要用手指輕輕點一下螢幕上的「Music」（音樂）圖示就可以了。點下去之後，你就可以選擇你想聽的歌曲，盡情享受音樂囉！就像平常用手機或平板電腦聽音樂一樣簡單！\n"
      ],
      "text/plain": [
       "<IPython.core.display.Markdown object>"
      ]
     },
     "execution_count": 15,
     "metadata": {},
     "output_type": "execute_result"
    }
   ],
   "source": [
    "answer = client.models.generate_content(\n",
    "    model=\"gemini-2.0-flash\",\n",
    "    contents=prompt)\n",
    "\n",
    "Markdown(answer.text)"
   ]
  },
  {
   "cell_type": "markdown",
   "id": "a3433175-52ca-415d-a9f9-962f10131f22",
   "metadata": {},
   "source": [
    "## 下一步\n",
    "\n",
    "恭喜你成功建立一個檢索增強生成應用程式！\n",
    "\n",
    "若想進一步了解如何在 Gemini API 中使用嵌入技術，請參閱 [嵌入入門](https://ai.google.dev/gemini-api/docs/embeddings)；或若想學習更多基礎知識，請參考機器學習速成課程中的 [嵌入章節](https://developers.google.com/machine-learning/crash-course/embeddings)。\n",
    "\n",
    "另外，若你想建立託管式的 RAG 系統，請參閱 Gemini API 中的 [語意檢索服務](https://ai.google.dev/gemini-api/docs/semantic_retrieval)。你可以透過單次請求在你自己的文件上實作問答，或是託管一個資料庫以獲得更快速的回應。\n",
    "\n",
    "*- [Mark McD](https://linktr.ee/markmcd)*"
   ]
  },
  {
   "cell_type": "code",
   "execution_count": null,
   "id": "f3edda63-721f-477a-8b03-6a901aff196f",
   "metadata": {},
   "outputs": [],
   "source": [
    "# Copyright 2025 Google LLC.\n",
    "\n",
    "# @title 根據 Apache License, Version 2.0（以下簡稱「授權條款」）取得授權；\n",
    "# 除非遵循授權條款，否則不得使用此檔案。\n",
    "# 你可以從以下網址取得授權條款副本：\n",
    "#\n",
    "# https://www.apache.org/licenses/LICENSE-2.0\n",
    "#\n",
    "# 除非適用法律要求或書面同意，本軟體皆按「現狀」提供，\n",
    "# 不附帶任何形式的明示或暗示保證。\n",
    "# 請參閱授權條款以了解具體權限與限制。"
   ]
  }
 ],
 "metadata": {
  "kernelspec": {
   "display_name": "Python 3 (ipykernel)",
   "language": "python",
   "name": "python3"
  },
  "language_info": {
   "codemirror_mode": {
    "name": "ipython",
    "version": 3
   },
   "file_extension": ".py",
   "mimetype": "text/x-python",
   "name": "python",
   "nbconvert_exporter": "python",
   "pygments_lexer": "ipython3",
   "version": "3.11.11"
  }
 },
 "nbformat": 4,
 "nbformat_minor": 5
}
