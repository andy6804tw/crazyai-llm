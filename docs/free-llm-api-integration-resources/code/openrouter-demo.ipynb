{
 "cells": [
  {
   "cell_type": "markdown",
   "id": "975684f2-ad7a-4986-b4c4-50b8578e0223",
   "metadata": {},
   "source": [
    "# 利用 OpenAI Python 函式庫整合 OpenRouter API —— 以 Quasar Alpha 為範例\n",
    "\n",
    "OpenRouter 提供了與 OpenAI API 相容的統一介面，讓開發者可以快速串接多種大型語言模型（LLM）。本教學將示範如何利用 OpenAI 函式庫整合 OpenRouter API，實現對話生成與單次問答的功能。\n",
    "\n",
    "---\n",
    "\n",
    "## 1. 環境設定與客戶端初始化\n",
    "\n",
    "首先，你需要安裝 OpenAI Python 函式庫，可以透過 pip 指令安裝："
   ]
  },
  {
   "cell_type": "code",
   "execution_count": 24,
   "id": "ad2757f2-cadc-413c-a603-97c09be7149e",
   "metadata": {},
   "outputs": [],
   "source": [
    "!pip install openai"
   ]
  },
  {
   "cell_type": "markdown",
   "id": "b13bcdf2-ce09-42bb-b233-d3e4c707b065",
   "metadata": {},
   "source": [
    "接著透過下列程式碼初始化客戶端，並指定 API 伺服器 URL 與你的 API 金鑰。\n"
   ]
  },
  {
   "cell_type": "code",
   "execution_count": 3,
   "id": "fd7ac072-ddfe-45be-a43e-435d5ac480e4",
   "metadata": {},
   "outputs": [],
   "source": [
    "from openai import OpenAI\n",
    "\n",
    "client = OpenAI(\n",
    "    base_url='https://openrouter.ai/api/v1/',  # 設定 OpenRouter API 的 URL\n",
    "    api_key='YOUR_API_KEY_HERE',                # 請填入你從 OpenRouter 取得的 API 金鑰\n",
    ")"
   ]
  },
  {
   "cell_type": "markdown",
   "id": "0d454c97-abe2-459c-a37b-b3bbb391499f",
   "metadata": {},
   "source": [
    "# 2. Chat Completion API（對話生成）\n",
    "\n",
    "### 2.1 純文字聊天\n",
    "\n",
    "以下程式碼示範如何向 Quasar Alpha 建立一個純文字聊天請求，更多模型參數設置可以[參考](https://openrouter.ai/docs/api-reference/parameters)："
   ]
  },
  {
   "cell_type": "code",
   "execution_count": 33,
   "id": "d72e1069-b21f-4902-b902-716c826bf078",
   "metadata": {
    "tags": []
   },
   "outputs": [
    {
     "name": "stdout",
     "output_type": "stream",
     "text": [
      "47\n"
     ]
    }
   ],
   "source": [
    "# 使用 chat API 建立一個聊天請求\n",
    "chat_completion = client.chat.completions.create(\n",
    "    messages=[\n",
    "        {\n",
    "            'role': 'user',                         # 設定角色為「使用者」\n",
    "            'content': '請隨機給一個數字',         # 輸入你要詢問的問題\n",
    "        }\n",
    "    ],\n",
    "    model='openrouter/quasar-alpha',              # 指定使用 Quasar Alpha 模型\n",
    "    temperature=1,  # 設定溫度值，影響回答的隨機性\n",
    "    max_tokens=512,  # 設定回應的最大 Token 數（字數限制）\n",
    "    top_p=1  # 設定 Top-p，用於控制回應的多樣性\n",
    ")\n",
    "\n",
    "# 取得並印出模型回應的內容\n",
    "print(chat_completion.choices[0].message.content)"
   ]
  },
  {
   "cell_type": "markdown",
   "id": "56db8f92-21b8-45f7-8dea-e2308ce70b6d",
   "metadata": {},
   "source": [
    "### 2.2 文字與影像混合輸入的聊天\n",
    "\n",
    "以下範例示範如何同時傳送文字與以 Base64 編碼的影像資料："
   ]
  },
  {
   "cell_type": "code",
   "execution_count": 27,
   "id": "0f54f974-b9bc-4dcb-bdb9-dab19b57b675",
   "metadata": {},
   "outputs": [
    {
     "name": "stdout",
     "output_type": "stream",
     "text": [
      "這張圖片中有一位穿著畢業袍的人，手裡拿著一束花。背景是一片綠意盎然的草地和樹木，看起來像是在戶外的公園或校園。這應該是一張關於畢業典禮的照片。\n"
     ]
    }
   ],
   "source": [
    "import base64\n",
    "\n",
    "# 讀取本機圖片並轉為 Base64 格式\n",
    "def encode_image(image_path):\n",
    "    with open(image_path, \"rb\") as image_file:\n",
    "        return base64.b64encode(image_file.read()).decode(\"utf-8\")\n",
    "\n",
    "# 圖片路徑\n",
    "image_path = \"./image.png\"\n",
    "base64_image = encode_image(image_path)\n",
    "\n",
    "response = client.chat.completions.create(\n",
    "    model=\"openrouter/quasar-alpha\",           # 使用支援 Vision 功能的 Quasar Alpha 模型（若模型具備相關功能）\n",
    "    messages=[\n",
    "        {\n",
    "            \"role\": \"user\",\n",
    "            \"content\": [\n",
    "                {\"type\": \"text\", \"text\": \"這張圖片裡有什麼？\"},\n",
    "                {\"type\": \"image_url\", \"image_url\": f\"data:image/jpeg;base64,{base64_image}\"}\n",
    "            ]\n",
    "        }\n",
    "    ],\n",
    "    max_tokens=300,\n",
    ")\n",
    "\n",
    "# 取得並印出回應內容\n",
    "print(response.choices[0].message.content)"
   ]
  },
  {
   "cell_type": "code",
   "execution_count": 32,
   "id": "255e2974-d742-44ca-8611-693887e01ed5",
   "metadata": {},
   "outputs": [
    {
     "name": "stdout",
     "output_type": "stream",
     "text": [
      "這張圖片中是一片寬廣的綠色草地，中央有一條木質步道延伸向遠方。天氣晴朗，藍天上有一些白色的雲朵，整體景色十分寧靜自然，展現出郊外或濕地的風光。\n"
     ]
    }
   ],
   "source": [
    "# 亦或是直接給圖像網址也能理解圖像內容\n",
    "response = client.chat.completions.create(\n",
    "    model=\"openrouter/quasar-alpha\",\n",
    "    messages=[\n",
    "        {\n",
    "            \"role\": \"user\",\n",
    "            \"content\": [\n",
    "                {\"type\": \"text\", \"text\": \"這張圖片裡有什麼？\"},\n",
    "                {\n",
    "                    \"type\": \"image_url\",\n",
    "                    \"image_url\": {\n",
    "                        \"url\": \"https://upload.wikimedia.org/wikipedia/commons/thumb/d/dd/Gfp-wisconsin-madison-the-nature-boardwalk.jpg/2560px-Gfp-wisconsin-madison-the-nature-boardwalk.jpg\"\n",
    "                    }\n",
    "                }\n",
    "            ]\n",
    "        }\n",
    "    ],\n",
    "    max_tokens=300,\n",
    ")\n",
    "\n",
    "# 取得並印出回應內容\n",
    "print(response.choices[0].message.content)"
   ]
  },
  {
   "cell_type": "markdown",
   "id": "75b52627-015d-4a57-ae2d-5104de4e6427",
   "metadata": {},
   "source": [
    "## 3. Completion API (單次問答)\n",
    "\n",
    "如果不需要多輪對話，也可以直接使用單次問答 API。例如，以下程式以提示「美國首都在哪裡？」來取得結果：\n"
   ]
  },
  {
   "cell_type": "code",
   "execution_count": 28,
   "id": "5cf0e978-24f5-4b24-b997-4573dabfe926",
   "metadata": {},
   "outputs": [
    {
     "name": "stdout",
     "output_type": "stream",
     "text": [
      "美國的首都位於華盛頓哥倫比亞特區（Washington, D.C.）。\n"
     ]
    }
   ],
   "source": [
    "completion = client.completions.create(\n",
    "    model=\"openrouter/quasar-alpha\",  # 指定使用 Quasar Alpha 模型\n",
    "    prompt=\"美國首都在哪裡？\",          # 提示詞\n",
    ")\n",
    "\n",
    "# 取得並印出模型回應的內容\n",
    "print(completion.choices[0].text)"
   ]
  },
  {
   "cell_type": "code",
   "execution_count": null,
   "id": "02354dad-fe35-4aad-aa63-80e11fcc3965",
   "metadata": {},
   "outputs": [],
   "source": []
  }
 ],
 "metadata": {
  "kernelspec": {
   "display_name": "Python 3 (ipykernel)",
   "language": "python",
   "name": "python3"
  },
  "language_info": {
   "codemirror_mode": {
    "name": "ipython",
    "version": 3
   },
   "file_extension": ".py",
   "mimetype": "text/x-python",
   "name": "python",
   "nbconvert_exporter": "python",
   "pygments_lexer": "ipython3",
   "version": "3.11.11"
  }
 },
 "nbformat": 4,
 "nbformat_minor": 5
}
