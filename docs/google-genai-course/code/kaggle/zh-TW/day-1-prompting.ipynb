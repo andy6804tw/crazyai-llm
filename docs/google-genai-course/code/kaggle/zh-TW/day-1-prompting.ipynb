{
 "cells": [
  {
   "cell_type": "markdown",
   "id": "32135491-a6aa-4a01-8c8b-267660635da5",
   "metadata": {},
   "source": [
    "# Day 1 - 提示工程\n",
    "\n",
    "歡迎參加 Kaggle 五天生成式 AI 課程！\n",
    "\n",
    "這份筆記本將帶你入門 Gemini API，並逐步介紹教材中提及的各種提示範例與技巧，這些內容在提示工程白皮書中也有詳細說明。雖然你不一定要先閱讀白皮書才能使用這份筆記本，但它們能為你提供理論背景與補充說明。\n",
    "\n",
    "## 開始前\n",
    "\n",
    "在這份筆記本中，你將開始使用 Python SDK 與 AI Studio 來探索提示工程。為了激發靈感，你也可以試試使用 Gemini 模型家族打造的應用程式，例如：\n",
    "\n",
    "* [TextFX](https://textfx.withgoogle.com/)：與 Lupe Fiasco 合作打造的 AI 工具組，專為饒舌創作設計。\n",
    "* [SQL Talk](https://sql-talk-r5gdynozbq-uc.a.run.app/)：示範如何利用 Gemini API 與資料庫進行直接對話。\n",
    "* [NotebookLM](https://notebooklm.google/)：利用 Gemini 模型打造你的個人 AI 研究助理。\n",
    "\n",
    "## 求助說明\n",
    "\n",
    "若遇到任何問題，請參考 [FAQ 與疑難排解指南](https://www.kaggle.com/code/markishere/day-0-troubleshooting-and-faqs)。\n",
    "\n",
    "## Gemini 2.0 新功能！\n",
    "\n",
    "本課程教材最初於 2024 年 11 月推出，但因為 AI 與大型語言模型發展迅速，我們已更新教材以採用最新模型與功能：\n",
    "\n",
    "* 本 codelab 已改用 Gemini 2.0 模型家族。\n",
    "* Python SDK 從 `google-generativeai` 升級為全新統一的 [`google-genai`](https://pypi.org/project/google-genai) SDK。\n",
    "  * 新 SDK 同時支援開發者版 Gemini API 與 Google Cloud Vertex AI，切換非常簡單（只需修改部分欄位，詳情請參閱相關說明）。\n",
    "* 新的模型功能已加入，例如本筆記本中介紹的「思考模式」。\n",
    "* Day 1 亦新增了 [Evaluation codelab](https://www.kaggle.com/code/markishere/day-1-evaluation-and-structured-output)。\n",
    "\n",
    "## 開始使用 Kaggle 筆記本\n",
    "\n",
    "如果你是第一次使用 Kaggle 筆記本，歡迎加入！你可以參考 [Kaggle 筆記本說明文件](https://www.kaggle.com/docs/notebooks) 瞭解如何操作。\n",
    "\n",
    "首先，你需要在 kaggle.com/settings 進行手機驗證。\n",
    "\n",
    "![](https://storage.googleapis.com/kaggle-media/Images/5dgai_0.png)\n",
    "\n",
    "接著，點選右上角的 `Copy and Edit` 按鈕，將筆記本複製為可編輯的私人副本，如下圖所示：\n",
    "\n",
    "![Copy and Edit 按鈕](https://storage.googleapis.com/kaggle-media/Images/5gdai_sc_1.png)\n",
    "\n",
    "複製後，每個程式碼區塊旁都會出現 ▶️ **Run** 按鈕，你可以依序從上到下執行，也可新增區塊自行試驗。如果遇到卡住的情況，可試試 `Factory reset` 選項，或回到原始筆記本再複製一份。\n",
    "\n",
    "![Run cell 按鈕](https://storage.googleapis.com/kaggle-media/Images/5gdai_sc_2.png)\n",
    "\n",
    "### 問題討論\n",
    "\n",
    "若有任何問題，請前往 [Kaggle Discord](https://discord.com/invite/kaggle)，到 [`#5dgai-q-and-a` 頻道](https://discord.com/channels/1101210829807956100/1303438695143178251) 尋求協助。\n",
    "\n",
    "## 開始使用 Gemini API\n",
    "\n",
    "本筆記本中的所有練習都將使用 [Gemini API](https://ai.google.dev/gemini-api/)，透過 [Python SDK](https://pypi.org/project/google-genai/) 來操作。每個提示也可以直接在 [Google AI Studio](https://aistudio.google.com/) 上試用；若你偏好使用網頁介面，請點選各提示旁的 <img src=\"https://ai.google.dev/site-assets/images/marketing/home/icon-ais.png\" style=\"height: 24px\" height=24/> AI Studio 連結。\n",
    "\n",
    "接下來，請將你的 API 金鑰加入 Kaggle 筆記本，作為 Kaggle 使用者密鑰。\n",
    "\n",
    "![](https://storage.googleapis.com/kaggle-media/Images/5dgai_1.png)  \n",
    "![](https://storage.googleapis.com/kaggle-media/Images/5dgai_2.png)  \n",
    "![](https://storage.googleapis.com/kaggle-media/Images/5dgai_3.png)  \n",
    "![](https://storage.googleapis.com/kaggle-media/Images/5dgai_4.png)\n",
    "\n",
    "### 安裝 SDK\n"
   ]
  },
  {
   "cell_type": "code",
   "execution_count": 2,
   "id": "0be94c45-a1af-404a-9b1e-b11b18196c2e",
   "metadata": {},
   "outputs": [],
   "source": [
    "!pip uninstall -qqy jupyterlab  # 移除 Kaggle 基底映像檔中可能衝突的套件\n",
    "!pip install -U -q \"google-genai==1.7.0\""
   ]
  },
  {
   "cell_type": "markdown",
   "id": "dfb7ad72-b1b3-407b-bf18-62237a4e997e",
   "metadata": {},
   "source": [
    "接著引入 SDK 與輔助模組用來呈現輸出："
   ]
  },
  {
   "cell_type": "code",
   "execution_count": 3,
   "id": "3fe0b4c7-ab2f-4dbf-95a7-f61b92a389df",
   "metadata": {},
   "outputs": [],
   "source": [
    "from google import genai\n",
    "from google.genai import types\n",
    "\n",
    "from IPython.display import HTML, Markdown, display"
   ]
  },
  {
   "cell_type": "markdown",
   "id": "76fb827c-0b56-45b8-829f-a91424ab77bb",
   "metadata": {},
   "source": [
    "建立重試機制，讓你可以使用「全部執行」而不用擔心每分鐘配額問題："
   ]
  },
  {
   "cell_type": "code",
   "execution_count": 7,
   "id": "2514c950-aa24-4922-a178-76209f532ab1",
   "metadata": {},
   "outputs": [],
   "source": [
    "from google.api_core import retry\n",
    "\n",
    "is_retriable = lambda e: (isinstance(e, genai.errors.APIError) and e.code in {429, 503})\n",
    "\n",
    "genai.models.Models.generate_content = retry.Retry(\n",
    "    predicate=is_retriable)(genai.models.Models.generate_content)"
   ]
  },
  {
   "cell_type": "markdown",
   "id": "d6d7434b-11ea-4782-b37a-777cf8d7a3db",
   "metadata": {},
   "source": [
    "### 設定 API 金鑰\n",
    "\n",
    "請先將你的 API 金鑰新增為 Kaggle Secret，名稱為 `GOOGLE_API_KEY`。（詳細說明請參考 [Kaggle Secret 說明](https://www.kaggle.com/discussions/product-feedback/114053)）\n",
    "\n",
    "若你尚未擁有 API 金鑰，請至 [AI Studio](https://aistudio.google.com/app/apikey) 取得，詳情請參閱 [Gemini API 文件](https://ai.google.dev/gemini-api/docs/api-key)。\n"
   ]
  },
  {
   "cell_type": "code",
   "execution_count": 9,
   "id": "2086e33d-c8af-45a7-b51c-9c836cf6dfb6",
   "metadata": {},
   "outputs": [],
   "source": [
    "from kaggle_secrets import UserSecretsClient\n",
    "\n",
    "GOOGLE_API_KEY = UserSecretsClient().get_secret(\"GOOGLE_API_KEY\")"
   ]
  },
  {
   "cell_type": "markdown",
   "id": "df5cc8d2-d896-4079-8f67-51514034d9ba",
   "metadata": {},
   "source": [
    "若出現 `No user secrets exist for kernel id ...` 的錯誤，請依照說明透過 `Add-ons` → `Secrets` 新增並啟用金鑰。\n",
    "\n",
    "![啟用 GOOGLE_API_KEY 的截圖](https://storage.googleapis.com/kaggle-media/Images/5gdai_sc_3.png)\n",
    "\n",
    "### 執行第一個提問\n",
    "\n",
    "請測試 API 金鑰設定是否正確，並發送一個請求。\n",
    "\n",
    "SDK 使用 [`Client` 物件](https://googleapis.github.io/python-genai/genai.html#genai.client.Client) 來發送請求，此物件可控制使用 Gemini API 或 Vertex AI 並處理身份驗證。\n",
    "\n",
    "本範例選用 `gemini-2.0-flash` 模型。\n",
    "\n",
    "**注意**：若出現 `TransportError`，請試著執行一次 **Factory reset**。"
   ]
  },
  {
   "cell_type": "code",
   "execution_count": 10,
   "id": "e72a4097-a627-407a-9289-654a2c18137b",
   "metadata": {},
   "outputs": [
    {
     "name": "stdout",
     "output_type": "stream",
     "text": [
      "想像一下，你有一個超級聰明的玩具機器人。\n",
      "\n",
      "這個玩具機器人可以：\n",
      "\n",
      "* **玩遊戲：** 只要你告訴它遊戲規則，它就能自己玩，而且會越玩越厲害！\n",
      "* **畫畫：** 你可以告訴它你想畫什麼，它就會用你教它的方法畫出來。\n",
      "* **聽你說話：** 你說話它能聽懂，然後回答你的問題。\n",
      "\n",
      "這個超級聰明的玩具機器人就是用了 AI！\n",
      "\n",
      "**AI 就是讓電腦像人一樣思考和學習的技術，讓它們可以做一些原本只有人才能做的事情。**\n",
      "\n",
      "就好像教玩具機器人，讓它越來越聰明，越來越能幫你忙！\n",
      "\n"
     ]
    }
   ],
   "source": [
    "client = genai.Client(api_key=GOOGLE_API_KEY)\n",
    "\n",
    "response = client.models.generate_content(\n",
    "    model=\"gemini-2.0-flash\",\n",
    "    contents=\"請像對小孩一樣，簡單地解釋什麼是 AI。\")\n",
    "\n",
    "print(response.text)"
   ]
  },
  {
   "cell_type": "markdown",
   "id": "5d26bfc2-e32d-4e02-8061-201253d3a23e",
   "metadata": {},
   "source": [
    "執行結果通常以 Markdown 格式返回，你也可以直接渲染："
   ]
  },
  {
   "cell_type": "code",
   "execution_count": 11,
   "id": "5e131631-bc3e-4f65-b1b7-460ba4c401af",
   "metadata": {},
   "outputs": [
    {
     "data": {
      "text/markdown": [
       "想像一下，你有一個超級聰明的玩具機器人。\n",
       "\n",
       "這個玩具機器人可以：\n",
       "\n",
       "* **玩遊戲：** 只要你告訴它遊戲規則，它就能自己玩，而且會越玩越厲害！\n",
       "* **畫畫：** 你可以告訴它你想畫什麼，它就會用你教它的方法畫出來。\n",
       "* **聽你說話：** 你說話它能聽懂，然後回答你的問題。\n",
       "\n",
       "這個超級聰明的玩具機器人就是用了 AI！\n",
       "\n",
       "**AI 就是讓電腦像人一樣思考和學習的技術，讓它們可以做一些原本只有人才能做的事情。**\n",
       "\n",
       "就好像教玩具機器人，讓它越來越聰明，越來越能幫你忙！\n"
      ],
      "text/plain": [
       "<IPython.core.display.Markdown object>"
      ]
     },
     "execution_count": 11,
     "metadata": {},
     "output_type": "execute_result"
    }
   ],
   "source": [
    "Markdown(response.text)"
   ]
  },
  {
   "cell_type": "markdown",
   "id": "95924f7c-ec8d-45a0-a086-2524afcd1643",
   "metadata": {},
   "source": [
    "### 開啟聊天模式\n",
    "\n",
    "上例使用單回合文字輸入／輸出，但你也可設定多回合對話："
   ]
  },
  {
   "cell_type": "code",
   "execution_count": 12,
   "id": "8c892952-002b-4596-9109-d12f3010b58a",
   "metadata": {},
   "outputs": [
    {
     "name": "stdout",
     "output_type": "stream",
     "text": [
      "哈囉 Zlork，很高興認識你！ 有什麼我可以幫忙的嗎？ 或者只是想聊聊天？ 😊\n",
      "\n"
     ]
    }
   ],
   "source": [
    "chat = client.chats.create(model='gemini-2.0-flash', history=[])\n",
    "response = chat.send_message('哈囉！我叫 Zlork。')\n",
    "print(response.text)"
   ]
  },
  {
   "cell_type": "code",
   "execution_count": 13,
   "id": "53b11c15-f38c-4643-aa92-99c8bfeebe94",
   "metadata": {},
   "outputs": [
    {
     "name": "stdout",
     "output_type": "stream",
     "text": [
      "沒問題！以下是一些有趣的恐龍知識，希望能讓你覺得有趣：\n",
      "\n",
      "*   **雷龍（Brontosaurus）差點就不存在了！** 其實雷龍最初的化石只是一個不太完整的迷惑龍骨架。後來，古生物學家認為它們太相似了，所以把雷龍歸類為迷惑龍的一種。但經過漫長的爭論和新的研究，2015年雷龍終於又被確認為獨立的物種了！\n",
      "\n",
      "*   **恐龍羽毛並不只是裝飾！** 雖然我們總是在電影裡看到皮膚粗糙的恐龍，但其實許多恐龍都有羽毛，而且用途廣泛。有些用來保暖，有些用來求偶，甚至還有用來滑翔的！\n",
      "\n",
      "*   **暴龍（Tyrannosaurus Rex）可能不是頂級掠食者！** 近年的研究顯示，暴龍可能更多的是以腐肉為食，而不是主動獵殺。雖然牠擁有強大的咬合力，但也許更擅長咬碎骨頭，而不是追逐獵物。\n",
      "\n",
      "*   **恐龍的壽命超乎想像！** 有些恐龍，比如梁龍（Diplodocus），可能活到 70 甚至 80 歲！這對於生活在恐龍時代的生物來說，算是相當長壽了。\n",
      "\n",
      "*   **恐龍的便便化石是寶藏！** 古生物學家可以透過研究恐龍的糞便化石（稱為糞化石）來了解牠們的飲食習慣，進而推斷出更多關於恐龍生態的資訊。\n",
      "\n",
      "*   **最小的恐龍跟鴿子差不多大！** 雖然我們總覺得恐龍都是龐然大物，但其實也有些小巧的恐龍，比如蜂鳥龍（Microraptor），牠們的體型跟鴿子差不多，而且還能滑翔飛行！\n",
      "\n",
      "*   **恐龍的祖先比恐龍還要早！** 恐龍並不是憑空出現的，牠們的祖先可以追溯到三疊紀時期，比如主龍類（Archosaur），這些生物最終演化成了恐龍、鱷魚和鳥類。\n",
      "\n",
      "希望這些知識能讓你感到有趣！你想知道更多關於哪方面的恐龍知識呢？例如：特定種類的恐龍、牠們的生活方式、滅絕的原因等等，都可以告訴我喔！\n",
      "\n"
     ]
    }
   ],
   "source": [
    "response = chat.send_message('可以跟我分享一些有趣的恐龍知識嗎？')\n",
    "print(response.text)"
   ]
  },
  {
   "cell_type": "markdown",
   "id": "bd7fca15-5891-4b31-93c6-009ffe0fc6f0",
   "metadata": {},
   "source": [
    "在聊天狀態下，對話內容會持續，你也可確認模型是否記得你的名字："
   ]
  },
  {
   "cell_type": "code",
   "execution_count": 14,
   "id": "a3dfc6ad-9c66-4c50-b04c-8b1514d75c73",
   "metadata": {},
   "outputs": [
    {
     "name": "stdout",
     "output_type": "stream",
     "text": [
      "當然記得！你的名字是 Zlork。 😊\n",
      "\n"
     ]
    }
   ],
   "source": [
    "response = chat.send_message('你還記得我的名字嗎？')\n",
    "print(response.text)"
   ]
  },
  {
   "cell_type": "markdown",
   "id": "1b9fc4c3-515e-4b79-8e6f-b7df67e377a3",
   "metadata": {},
   "source": [
    "### 選擇模型\n",
    "\n",
    "Gemini API 提供了 Gemini 模型家族中的多個模型。你可以在 [模型概覽頁面](https://ai.google.dev/gemini-api/docs/models/gemini) 查看各模型功能。\n",
    "\n",
    "以下範例列出所有可用模型："
   ]
  },
  {
   "cell_type": "code",
   "execution_count": 15,
   "id": "52e625e5-8d6f-4d62-a5d1-6449b4c54a29",
   "metadata": {},
   "outputs": [
    {
     "name": "stdout",
     "output_type": "stream",
     "text": [
      "models/chat-bison-001\n",
      "models/text-bison-001\n",
      "models/embedding-gecko-001\n",
      "models/gemini-1.0-pro-vision-latest\n",
      "models/gemini-pro-vision\n",
      "models/gemini-1.5-pro-latest\n",
      "models/gemini-1.5-pro-001\n",
      "models/gemini-1.5-pro-002\n",
      "models/gemini-1.5-pro\n",
      "models/gemini-1.5-flash-latest\n",
      "models/gemini-1.5-flash-001\n",
      "models/gemini-1.5-flash-001-tuning\n",
      "models/gemini-1.5-flash\n",
      "models/gemini-1.5-flash-002\n",
      "models/gemini-1.5-flash-8b\n",
      "models/gemini-1.5-flash-8b-001\n",
      "models/gemini-1.5-flash-8b-latest\n",
      "models/gemini-1.5-flash-8b-exp-0827\n",
      "models/gemini-1.5-flash-8b-exp-0924\n",
      "models/gemini-2.5-pro-exp-03-25\n",
      "models/gemini-2.0-flash-exp\n",
      "models/gemini-2.0-flash\n",
      "models/gemini-2.0-flash-001\n",
      "models/gemini-2.0-flash-exp-image-generation\n",
      "models/gemini-2.0-flash-lite-001\n",
      "models/gemini-2.0-flash-lite\n",
      "models/gemini-2.0-flash-lite-preview-02-05\n",
      "models/gemini-2.0-flash-lite-preview\n",
      "models/gemini-2.0-pro-exp\n",
      "models/gemini-2.0-pro-exp-02-05\n",
      "models/gemini-exp-1206\n",
      "models/gemini-2.0-flash-thinking-exp-01-21\n",
      "models/gemini-2.0-flash-thinking-exp\n",
      "models/gemini-2.0-flash-thinking-exp-1219\n",
      "models/learnlm-1.5-pro-experimental\n",
      "models/gemma-3-1b-it\n",
      "models/gemma-3-4b-it\n",
      "models/gemma-3-12b-it\n",
      "models/gemma-3-27b-it\n",
      "models/embedding-001\n",
      "models/text-embedding-004\n",
      "models/gemini-embedding-exp-03-07\n",
      "models/gemini-embedding-exp\n",
      "models/aqa\n",
      "models/imagen-3.0-generate-002\n"
     ]
    }
   ],
   "source": [
    "for model in client.models.list():\n",
    "  print(model.name)"
   ]
  },
  {
   "cell_type": "markdown",
   "id": "d1d0547e-2327-4691-9bc4-7b5d248ba47d",
   "metadata": {},
   "source": [
    "`models.list` 的回應也包含每個模型的額外資訊，如 token 限制與支援參數。以下查詢 `models/gemini-2.0-flash` 的詳細資訊："
   ]
  },
  {
   "cell_type": "code",
   "execution_count": 16,
   "id": "4455f137-ffea-49c3-8ee8-64487e77c1a6",
   "metadata": {},
   "outputs": [
    {
     "name": "stdout",
     "output_type": "stream",
     "text": [
      "{'description': 'Gemini 2.0 Flash',\n",
      " 'display_name': 'Gemini 2.0 Flash',\n",
      " 'input_token_limit': 1048576,\n",
      " 'name': 'models/gemini-2.0-flash',\n",
      " 'output_token_limit': 8192,\n",
      " 'supported_actions': ['generateContent', 'countTokens'],\n",
      " 'tuned_model_info': {},\n",
      " 'version': '2.0'}\n"
     ]
    }
   ],
   "source": [
    "from pprint import pprint\n",
    "\n",
    "for model in client.models.list():\n",
    "  if model.name == 'models/gemini-2.0-flash':\n",
    "    pprint(model.to_json_dict())\n",
    "    break"
   ]
  },
  {
   "cell_type": "markdown",
   "id": "4aa288c3-c0cd-45b7-8116-2226049f4ab5",
   "metadata": {},
   "source": [
    "## 探索生成參數\n",
    "\n",
    "### 輸出長度\n",
    "\n",
    "在使用大型語言模型生成文字時，輸出長度會影響成本與效能。生成更多 token 意味著運算量增加，進而提高能耗、延遲與成本。\n",
    "\n",
    "若你希望模型在達到特定 token 數後停止生成，可以設定 `max_output_tokens` 參數。這不會使輸出內容更精簡，只是單純截斷生成。\n"
   ]
  },
  {
   "cell_type": "code",
   "execution_count": 20,
   "id": "36b2e492-6442-4234-ad99-43ce036ec794",
   "metadata": {},
   "outputs": [
    {
     "name": "stdout",
     "output_type": "stream",
     "text": [
      "## 橄欖：現代社會中的文化、經濟與健康瑰寶\n",
      "\n",
      "橄欖，這種古老的作物，不僅僅是地中海飲食的基石，更在現代社會扮演著多重重要角色。從其豐富的文化底蘊到其在經濟發展中的貢獻，再到其令人矚目的健康益處，橄欖及其衍生產品已經成為全球範圍內不可或缺的一部分。本文將深入探討橄欖在現代社會中的文化、經濟和健康重要性，並展望其未來發展前景。\n",
      "\n",
      "**一、文化意義：地中海文明的象徵與全球美食的靈感**\n",
      "\n",
      "橄欖樹與橄欖果在文化上具有深遠的影響，尤其是在地中海地區。幾千年來，橄欖樹被視為和平、智慧、繁榮和長壽的象徵。在古希臘神話中，雅典娜女神用一棵橄欖樹贏\n"
     ]
    }
   ],
   "source": [
    "from google.genai import types\n",
    "\n",
    "short_config = types.GenerateContentConfig(max_output_tokens=200)\n",
    "\n",
    "response = client.models.generate_content(\n",
    "    model='gemini-2.0-flash',\n",
    "    config=short_config,\n",
    "    contents='請撰寫一篇 1000 字論文，探討橄欖在現代社會中的重要性。')\n",
    "\n",
    "print(response.text)"
   ]
  },
  {
   "cell_type": "code",
   "execution_count": 21,
   "id": "06ff270b-dc3a-43b1-8b14-6a91c007e420",
   "metadata": {},
   "outputs": [
    {
     "name": "stdout",
     "output_type": "stream",
     "text": [
      "碧綠果實，點亮餐桌光，\n",
      "橄欖油香，滋潤健康忙。\n",
      "地中海風，吹拂至東方，\n",
      "和平象徵，滋味細品嚐。\n",
      "\n"
     ]
    }
   ],
   "source": [
    "response = client.models.generate_content(\n",
    "    model='gemini-2.0-flash',\n",
    "    config=short_config,\n",
    "    contents='請寫一首短詩，描述橄欖在現代社會中的重要性。')\n",
    "\n",
    "print(response.text)"
   ]
  },
  {
   "cell_type": "markdown",
   "id": "73fc667e-58bc-4fa7-aedb-a0b6b848f2b8",
   "metadata": {},
   "source": [
    "請自行嘗試修改提示內容與參數，觀察輸出結果如何變化。"
   ]
  },
  {
   "cell_type": "markdown",
   "id": "17fa3079-bef2-4029-b26f-017d19b4e14a",
   "metadata": {},
   "source": [
    "### 溫度參數\n",
    "\n",
    "溫度參數控制 token 選擇時的隨機程度。較高溫度會讓模型選擇更多候選 token，輸出結果更具多樣性；溫度設為 0 則代表貪婪解碼，始終選擇機率最高的 token。\n",
    "\n",
    "雖然溫度不保證完全隨機，但可以「輕微調整」輸出結果。"
   ]
  },
  {
   "cell_type": "code",
   "execution_count": 22,
   "id": "fb67eed9-1fe7-4843-8a81-b3bed3a9bdc0",
   "metadata": {},
   "outputs": [
    {
     "name": "stdout",
     "output_type": "stream",
     "text": [
      "藍色\n",
      " -------------------------\n",
      "綠\n",
      " -------------------------\n",
      "藍色\n",
      " -------------------------\n",
      "藍色\n",
      " -------------------------\n",
      "藍色\n",
      " -------------------------\n"
     ]
    }
   ],
   "source": [
    "high_temp_config = types.GenerateContentConfig(temperature=2.0)\n",
    "\n",
    "for _ in range(5):\n",
    "  response = client.models.generate_content(\n",
    "      model='gemini-2.0-flash',\n",
    "      config=high_temp_config,\n",
    "      contents='請隨機選擇一個顏色...（只回傳單一單詞）')\n",
    "\n",
    "  if response.text:\n",
    "    print(response.text, '-' * 25)"
   ]
  },
  {
   "cell_type": "markdown",
   "id": "d13be8a4-1ed9-4032-b092-edcfc5a56c73",
   "metadata": {},
   "source": [
    "接著，將溫度設為 0，再試一次。注意雖然結果不完全固定，但會趨向一致。"
   ]
  },
  {
   "cell_type": "code",
   "execution_count": 23,
   "id": "ba01dd7b-4d7b-474d-83c5-89fb57d289b5",
   "metadata": {},
   "outputs": [
    {
     "name": "stdout",
     "output_type": "stream",
     "text": [
      "藍色\n",
      " -------------------------\n",
      "藍色\n",
      " -------------------------\n",
      "藍色\n",
      " -------------------------\n",
      "藍色\n",
      " -------------------------\n",
      "藍色\n",
      " -------------------------\n"
     ]
    }
   ],
   "source": [
    "low_temp_config = types.GenerateContentConfig(temperature=0.0)\n",
    "\n",
    "for _ in range(5):\n",
    "  response = client.models.generate_content(\n",
    "      model='gemini-2.0-flash',\n",
    "      config=low_temp_config,\n",
    "      contents='請隨機選擇一個顏色...（只回傳單一單詞）')\n",
    "\n",
    "  if response.text:\n",
    "    print(response.text, '-' * 25)"
   ]
  },
  {
   "cell_type": "markdown",
   "id": "30598c87-58f6-48c6-9688-077950cf3705",
   "metadata": {},
   "source": [
    "### Top-P\n",
    "\n",
    "top-P 參數與溫度類似，用於控制模型輸出的多樣性。\n",
    "\n",
    "top-P 定義了累積機率達到門檻後停止選擇 token；top-P 為 0 通常等同於貪婪解碼，而 top-P 為 1 則意味著模型會考慮所有 token。\n",
    "\n",
    "在某些文獻中也會提到 top-K，但在 Gemini 2.0 模型中 top-K 不可調整。\n",
    "\n",
    "以下範例設定預設值（溫度 1.0，top-p 0.95）來生成故事："
   ]
  },
  {
   "cell_type": "code",
   "execution_count": 27,
   "id": "e3b5b025-7337-4e57-bd40-2ea9d884507e",
   "metadata": {},
   "outputs": [
    {
     "name": "stdout",
     "output_type": "stream",
     "text": [
      "## 貓咪船長的星辰大海\n",
      "\n",
      "咪咪是一隻與眾不同的貓。牠不愛在陽光下打盹，也不喜歡追逐紅點。牠的夢想，是星辰大海。\n",
      "\n",
      "咪咪住在海邊小鎮，每天最愛做的事，就是坐在碼頭邊，看著一艘艘漁船駛向遠方。牠的眼睛裡閃爍著渴望，想像著自己也站在船頭，迎著海風，探索未知的世界。\n",
      "\n",
      "有一天，機會來了。一艘名為「海鷗號」的貨船即將啟航，前往遙遠的南方島嶼。咪咪偷偷溜上了船，躲在一個裝滿魚乾的木箱裡。\n",
      "\n",
      "航行開始了。咪咪從木箱裡探出頭，貪婪地呼吸著鹹鹹的海風。牠看著一望無際的藍色，心中充滿了興奮。\n",
      "\n",
      "船上的水手們很快就發現了咪咪。起初，他們有些驚訝，但很快就被這隻充滿好奇心的小貓咪給迷住了。他們給咪咪取了個綽號：「船長」，因為牠總是喜歡站在船頭，像個真正的船長一樣，眺望遠方。\n",
      "\n",
      "咪咪很快就適應了船上的生活。牠學會了在搖晃的甲板上保持平衡，學會了分辨不同的海鳥叫聲，甚至還學會了如何從水手們手中偷走美味的魚乾。\n",
      "\n",
      "航行途中，他們遇到了暴風雨。巨浪拍打著船身，狂風呼嘯著，船隻劇烈搖晃。水手們忙著固定貨物，咪咪也緊緊抓住桅杆，努力不被吹走。\n",
      "\n",
      "暴風雨過後，天空放晴，海面恢復了平靜。咪咪站在船頭，看著彩虹橫跨天際，心中充滿了劫後餘生的喜悅。\n",
      "\n",
      "終於，「海鷗號」抵達了南方島嶼。這是一個充滿異國情調的地方，有著茂密的熱帶雨林，色彩鮮豔的鳥類，以及友善的當地居民。\n",
      "\n",
      "咪咪跳下船，開始探索這個新的世界。牠在雨林中穿梭，追逐蝴蝶，品嚐了從未見過的熱帶水果。牠還結交了一群新的朋友，包括一隻名叫可可的鸚鵡和一隻名叫阿布的猴子。\n",
      "\n",
      "在南方島嶼待了一段時間後，咪咪開始想家了。牠想念海邊小鎮，想念碼頭，想念那些曾經照顧牠的水手們。\n",
      "\n",
      "於是，咪咪決定回到「海鷗號」。水手們看到咪咪回來，都非常高興。他們熱烈地歡迎牠，並為牠準備了豐盛的晚餐。\n",
      "\n",
      "「海鷗號」再次啟航，這次是返回海邊小鎮。咪咪站在船頭，看著南方島嶼漸漸消失在海平面上，心中充滿了不捨，但也充滿了期待。\n",
      "\n",
      "回到海邊小鎮後，咪咪成為了鎮上的英雄。牠的故事被廣為流傳，人們都稱牠為「貓咪船長」。\n",
      "\n",
      "咪咪並沒有因此而驕傲。牠仍然喜歡坐在碼頭邊，看著漁船駛向遠方。但現在，牠的眼睛裡不再只有渴望，還有著冒險的記憶，以及對星辰大海的無限憧憬。\n",
      "\n",
      "咪咪知道，這一次的冒險只是個開始。牠的夢想，是探索更廣闊的世界，是征服更遙遠的星辰大海。而牠，貓咪船長，已經準備好了。\n",
      "\n"
     ]
    }
   ],
   "source": [
    "model_config = types.GenerateContentConfig(\n",
    "    temperature=1.0,\n",
    "    top_p=0.95,\n",
    ")\n",
    "\n",
    "story_prompt = \"你是一位創意寫手。請撰寫一個關於一隻冒險中貓咪的短故事。\"\n",
    "response = client.models.generate_content(\n",
    "    model='gemini-2.0-flash',\n",
    "    config=model_config,\n",
    "    contents=story_prompt)\n",
    "\n",
    "print(response.text)"
   ]
  },
  {
   "cell_type": "markdown",
   "id": "765fb5db-9773-461d-ad67-73c6fefc7cd9",
   "metadata": {},
   "source": [
    "## 提示範例\n",
    "\n",
    "這一節提供教材中的一些提示範例，供你直接在 API 中試用。你可調整提示文字，看看不同指令、範例或變化下模型的表現。\n",
    "\n",
    "### 零樣本提示\n",
    "\n",
    "零樣本提示即直接描述模型需求的提示。\n",
    "\n",
    "<table align=left>\n",
    "  <td>\n",
    "    <a target=\"_blank\" href=\"https://aistudio.google.com/prompts/1gzKKgDHwkAvexG5Up0LMtl1-6jKMKe4g\"><img src=\"https://ai.google.dev/site-assets/images/marketing/home/icon-ais.png\" style=\"height: 24px\" height=24/> 在 AI Studio 開啟</a>\n",
    "  </td>\n",
    "</table>"
   ]
  },
  {
   "cell_type": "code",
   "execution_count": 31,
   "id": "bd9f2b9d-b1d8-4560-9f75-665b3964c0db",
   "metadata": {},
   "outputs": [
    {
     "name": "stdout",
     "output_type": "stream",
     "text": [
      "情感傾向：**正面\n"
     ]
    }
   ],
   "source": [
    "model_config = types.GenerateContentConfig(\n",
    "    temperature=0.1,\n",
    "    top_p=1,\n",
    "    max_output_tokens=5,\n",
    ")\n",
    "\n",
    "zero_shot_prompt = \"\"\"請將電影評論分類為 正面、 中立 或 負面。\n",
    "評論：\"Her\" 這部電影展現了一種令人不安的研究，揭示了如果 AI 得以無限制進化，\n",
    "人類將走向何種未來。我真希望能看到更多這樣的經典作品。\n",
    "情感傾向：\"\"\"\n",
    "\n",
    "response = client.models.generate_content(\n",
    "    model='gemini-2.0-flash',\n",
    "    config=model_config,\n",
    "    contents=zero_shot_prompt)\n",
    "\n",
    "print(response.text)"
   ]
  },
  {
   "cell_type": "markdown",
   "id": "a9fc867f-4043-4ed7-a558-410307f71e49",
   "metadata": {},
   "source": [
    "#### Enum 模式\n",
    "\n",
    "模型訓練目標是生成文字，雖然 Gemini 2.0 模型能很好地遵循指令，但有時候可能會產生超出需求的內容。上述範例中，模型應只回傳標籤，但有時可能會附上額外文字。使用 Enum 模式可以限制模型僅回傳固定選項。\n"
   ]
  },
  {
   "cell_type": "code",
   "execution_count": 33,
   "id": "9de6eea2-51c0-4c31-97ef-d2b475696fcb",
   "metadata": {},
   "outputs": [
    {
     "name": "stdout",
     "output_type": "stream",
     "text": [
      "正面\n"
     ]
    }
   ],
   "source": [
    "import enum\n",
    "\n",
    "class Sentiment(enum.Enum):\n",
    "    POSITIVE = \"正面\"\n",
    "    NEUTRAL = \"中立\"\n",
    "    NEGATIVE = \"負面\"\n",
    "\n",
    "response = client.models.generate_content(\n",
    "    model='gemini-2.0-flash',\n",
    "    config=types.GenerateContentConfig(\n",
    "        response_mime_type=\"text/x.enum\",\n",
    "        response_schema=Sentiment\n",
    "    ),\n",
    "    contents=zero_shot_prompt)\n",
    "\n",
    "print(response.text)"
   ]
  },
  {
   "cell_type": "markdown",
   "id": "36e2a925-b297-4e7d-a8e0-bbebcf322a79",
   "metadata": {},
   "source": [
    "當使用 Enum 模式時，Python SDK 會自動將模型回應轉換成 Python 物件，存放在 `response.parsed` 欄位："
   ]
  },
  {
   "cell_type": "code",
   "execution_count": 34,
   "id": "afbd1990-6f12-47e5-91ac-f01e672becef",
   "metadata": {},
   "outputs": [
    {
     "name": "stdout",
     "output_type": "stream",
     "text": [
      "Sentiment.POSITIVE\n",
      "<enum 'Sentiment'>\n"
     ]
    }
   ],
   "source": [
    "enum_response = response.parsed\n",
    "print(enum_response)\n",
    "print(type(enum_response))"
   ]
  },
  {
   "cell_type": "markdown",
   "id": "01102675-d462-4972-a63a-ef127c07d96f",
   "metadata": {},
   "source": [
    "### 單樣本與少樣本提示\n",
    "\n",
    "提供一個範例回應即稱為「單樣本提示」，若提供多個範例則為「少樣本提示」。\n",
    "\n",
    "<table align=left>\n",
    "  <td>\n",
    "    <a target=\"_blank\" href=\"https://aistudio.google.com/prompts/1jjWkjUSoMXmLvMJ7IzADr_GxHPJVV2bg\"><img src=\"https://ai.google.dev/site-assets/images/marketing/home/icon-ais.png\" style=\"height: 24px\" height=24/> 在 AI Studio 開啟</a>\n",
    "  </td>\n",
    "</table>"
   ]
  },
  {
   "cell_type": "code",
   "execution_count": 37,
   "id": "234208c6-60e6-4e62-9de6-594d7fc21711",
   "metadata": {},
   "outputs": [
    {
     "name": "stdout",
     "output_type": "stream",
     "text": [
      "```json\n",
      "{\n",
      "  \"size\": \"large\",\n",
      "  \"type\": \"normal\",\n",
      "  \"ingredients\": [\"cheese\", \"pineapple\"]\n",
      "}\n",
      "```\n",
      "\n"
     ]
    }
   ],
   "source": [
    "few_shot_prompt = \"\"\"請將顧客的披薩訂單解析成有效的 JSON 格式：\n",
    "\n",
    "範例：\n",
    "我想要一個小披薩，搭配起司、番茄醬與義大利臘腸。\n",
    "JSON 回應：\n",
    "```\n",
    "{\n",
    "\"size\": \"small\",\n",
    "\"type\": \"normal\",\n",
    "\"ingredients\": [\"cheese\", \"tomato sauce\", \"pepperoni\"]\n",
    "}\n",
    "```\n",
    "\n",
    "範例：\n",
    "我可以來一個大披薩，加上番茄醬、羅勒和莫札瑞拉起司。\n",
    "JSON 回應：\n",
    "```\n",
    "{\n",
    "\"size\": \"large\",\n",
    "\"type\": \"normal\",\n",
    "\"ingredients\": [\"tomato sauce\", \"basil\", \"mozzarella\"]\n",
    "}\n",
    "```\n",
    "\n",
    "訂單：\n",
    "\"\"\"\n",
    "\n",
    "customer_order = \"給我一個大披薩，加上起司和鳳梨\"\n",
    "\n",
    "response = client.models.generate_content(\n",
    "    model='gemini-2.0-flash',\n",
    "    config=types.GenerateContentConfig(\n",
    "        temperature=0.1,\n",
    "        top_p=1,\n",
    "        max_output_tokens=250,\n",
    "    ),\n",
    "    contents=[few_shot_prompt, customer_order])\n",
    "\n",
    "print(response.text)"
   ]
  },
  {
   "cell_type": "markdown",
   "id": "9f6e4b97-4987-4dac-9e60-46ca9671b6cd",
   "metadata": {},
   "source": [
    "#### JSON 模式\n",
    "\n",
    "為了確保輸出嚴格為 JSON 格式，你可以使用 Gemini API 的 [JSON 模式](https://github.com/google-gemini/cookbook/blob/main/quickstarts/JSON_mode.ipynb)，此模式會根據指定結構限制生成內容。\n"
   ]
  },
  {
   "cell_type": "code",
   "execution_count": 41,
   "id": "5661bd41-44a4-4265-9104-ffbbb4bf574d",
   "metadata": {},
   "outputs": [
    {
     "name": "stdout",
     "output_type": "stream",
     "text": [
      "{\n",
      "  \"size\": \"large\",\n",
      "  \"ingredients\": [\"apple\", \"chocolate\"],\n",
      "  \"type\": \"dessert pizza\"\n",
      "}\n"
     ]
    }
   ],
   "source": [
    "import typing_extensions as typing\n",
    "\n",
    "class PizzaOrder(typing.TypedDict):\n",
    "    size: str\n",
    "    ingredients: list[str]\n",
    "    type: str\n",
    "\n",
    "response = client.models.generate_content(\n",
    "    model='gemini-2.0-flash',\n",
    "    config=types.GenerateContentConfig(\n",
    "        temperature=0.1,\n",
    "        response_mime_type=\"application/json\",\n",
    "        response_schema=PizzaOrder,\n",
    "    ),\n",
    "    contents=\"請給我一個大份的甜點披薩，搭配蘋果和巧克力。\")\n",
    "\n",
    "print(response.text)"
   ]
  },
  {
   "cell_type": "markdown",
   "id": "846744d7-27d6-4a98-82a5-04427bf2bed9",
   "metadata": {},
   "source": [
    "### 思維鏈 (Chain of Thought, CoT)\n",
    "直接提示模型回答可以快速回應，但有時容易出現幻覺或推理錯誤。思維鏈則要求模型先展示推理步驟，再給出最終答案，通常能提高回答正確性，但會增加生成的 token 數量與運算成本。\n"
   ]
  },
  {
   "cell_type": "code",
   "execution_count": 42,
   "id": "3778b3ba-0b99-494f-9ff8-323cfd759b22",
   "metadata": {},
   "outputs": [
    {
     "name": "stdout",
     "output_type": "stream",
     "text": [
      "你的伴侶現在 68 歲。\n",
      "\n"
     ]
    }
   ],
   "source": [
    "prompt = \"\"\"當我 4 歲時，我的伴侶年齡是我的 3 倍。現在我 20 歲，請直接告訴我我的伴侶幾歲？\"\"\"\n",
    "response = client.models.generate_content(\n",
    "    model='gemini-2.0-flash',\n",
    "    contents=prompt)\n",
    "\n",
    "print(response.text)"
   ]
  },
  {
   "cell_type": "markdown",
   "id": "20ed2b5a-781c-4e05-9425-c9275a92ea24",
   "metadata": {},
   "source": [
    "試試加入「一步一步思考」的提示："
   ]
  },
  {
   "cell_type": "code",
   "execution_count": 43,
   "id": "b87229d8-72ef-43df-ad33-af1236dec962",
   "metadata": {},
   "outputs": [
    {
     "data": {
      "text/markdown": [
       "好的，我們一步一步來：\n",
       "\n",
       "1. **計算年齡差：** 當你 4 歲時，你的伴侶 12 歲 (4 歲 * 3 = 12 歲)。\n",
       "2. **計算年齡差距：** 你的伴侶比你大 8 歲 (12 歲 - 4 歲 = 8 歲)。\n",
       "3. **計算伴侶現在的年齡：** 因為年齡差距永遠不變，所以現在你的伴侶 28 歲 (20 歲 + 8 歲 = 28 歲)。\n",
       "\n",
       "**所以，你現在 20 歲，你的伴侶 28 歲。**\n"
      ],
      "text/plain": [
       "<IPython.core.display.Markdown object>"
      ]
     },
     "execution_count": 43,
     "metadata": {},
     "output_type": "execute_result"
    }
   ],
   "source": [
    "prompt = \"\"\"當我 4 歲時，我的伴侶年齡是我的 3 倍。現在我 20 歲，請一步一步推理，告訴我我的伴侶幾歲？\"\"\"\n",
    "response = client.models.generate_content(\n",
    "    model='gemini-2.0-flash',\n",
    "    contents=prompt)\n",
    "\n",
    "Markdown(response.text)"
   ]
  },
  {
   "cell_type": "markdown",
   "id": "160d806b-4a5b-4274-a771-f9a2cb71ece7",
   "metadata": {},
   "source": [
    "### ReAct：結合理性與行動\n",
    "\n",
    "在此範例中，你將使用 ReAct 提示，讓模型在回答問題時交替輸出「思考」、「行動」與「觀察」步驟。這種結構化提示有助於模型更細緻地解題。以下範例取自 [ReAct GitHub](https://github.com/ysymyth/ReAct)（MIT 授權）。\n",
    "\n",
    "<table align=left>\n",
    "  <td>\n",
    "    <a target=\"_blank\" href=\"https://aistudio.google.com/prompts/18oo63Lwosd-bQ6Ay51uGogB3Wk3H8XMO\"><img src=\"https://ai.google.dev/site-assets/images/marketing/home/icon-ais.png\" style=\"height: 24px\" height=24/> 在 AI Studio 開啟</a>\n",
    "  </td>\n",
    "</table>"
   ]
  },
  {
   "cell_type": "code",
   "execution_count": 44,
   "id": "d5c83796-1560-4922-a720-79583710caf4",
   "metadata": {},
   "outputs": [],
   "source": [
    "model_instructions = \"\"\"\n",
    "請解決一個問答任務，交替輸出 思考 (Thought)、行動 (Action) 與 觀察 (Observation) 的步驟。思考用於推理當前狀況，\n",
    "觀察則是解析行動輸出中的關鍵資訊，而行動可以是以下三種操作之一：\n",
    " (1) <search>實體</search>：在 Wikipedia 上搜尋該實體，若存在則返回第一段；若無，則返回相似實體以供再次搜尋。\n",
    " (2) <lookup>關鍵字</lookup>：在當前內容中返回包含該關鍵字的下一句，此操作僅做精確匹配，所以請保持搜尋詞簡短。\n",
    " (3) <finish>答案</finish>：返回答案並結束任務。\n",
    "\"\"\"\n",
    "\n",
    "example1 = \"\"\"Question\n",
    "音樂人及諷刺作家 Allie Goertz 寫了一首關於《辛普森家庭》角色 Milhouse 的歌曲，請問 Milhouse 是以誰命名的？\n",
    "\n",
    "Thought 1\n",
    "問題可簡化為：「《辛普森家庭》角色 Milhouse 是以誰命名？」我只需要搜尋 Milhouse，找出其命名來源。\n",
    "\n",
    "Action 1\n",
    "<search>Milhouse</search>\n",
    "\n",
    "Observation 1\n",
    "Milhouse Mussolini Van Houten 是《辛普森家庭》中的常客角色，由 Pamela Hayden 配音，由 Matt Groening 創造。\n",
    "\n",
    "Thought 2\n",
    "該段文字並未說明 Milhouse 的命名來源，應再搜尋「named after」。\n",
    "\n",
    "Action 2\n",
    "<lookup>named after</lookup>\n",
    "\n",
    "Observation 2\n",
    "Milhouse 是以美國總統 Richard Nixon 的中間名 Milhous 命名。\n",
    "\n",
    "Thought 3\n",
    "因此答案為 Richard Nixon。\n",
    "\n",
    "Action 3\n",
    "<finish>Richard Nixon</finish>\n",
    "\"\"\"\n",
    "\n",
    "example2 = \"\"\"Question\n",
    "Colorado 造山運動的東部區域延伸到哪裡？其海拔範圍為何？\n",
    "\n",
    "Thought 1\n",
    "我需要搜尋 Colorado 造山運動，找出其東部區域延伸到哪裡，再查該區域的海拔範圍。\n",
    "\n",
    "Action 1\n",
    "<search>Colorado orogeny</search>\n",
    "\n",
    "Observation 1\n",
    "Colorado 造山運動指的是在 Colorado 及周邊地區發生的造山事件。\n",
    "\n",
    "Thought 2\n",
    "未提及東部區域，所以再搜尋「eastern sector」。\n",
    "\n",
    "Action 2\n",
    "<lookup>eastern sector</lookup>\n",
    "\n",
    "Observation 2\n",
    "東部區域延伸至高原，亦稱為 Central Plains orogeny。\n",
    "\n",
    "Thought 3\n",
    "接著搜尋「High Plains」以找出海拔範圍。\n",
    "\n",
    "Action 3\n",
    "<search>High Plains</search>\n",
    "\n",
    "Observation 3\n",
    "High Plains 指的是大平原中的一個區域。\n",
    "\n",
    "Thought 4\n",
    "應改搜尋「High Plains (United States)」。\n",
    "\n",
    "Action 4\n",
    "<search>High Plains (United States)</search>\n",
    "\n",
    "Observation 4\n",
    "High Plains 指的是美國大平原的一部分，海拔約從 1,800 到 7,000 英尺（550 至 2,130 公尺）。\n",
    "\n",
    "Thought 5\n",
    "因此答案為 1,800 到 7,000 英尺。\n",
    "\n",
    "Action 5\n",
    "<finish>1,800 to 7,000 ft</finish>\n",
    "\"\"\"\n",
    "\n",
    "# 你也可以自行增加更多範例，或參考 https://github.com/ysymyth/ReAct/"
   ]
  },
  {
   "cell_type": "markdown",
   "id": "1c97bf7a-6ceb-4310-9cde-fbb392784a23",
   "metadata": {},
   "source": [
    "為了逐步捕捉每個步驟，並忽略模型可能產生的虛假「觀察」步驟，你可以使用 `stop_sequences` 來結束生成過程，停在遇到「Observation」之前。"
   ]
  },
  {
   "cell_type": "code",
   "execution_count": 45,
   "id": "d32925f6-d7ca-417d-8268-eda946eb5dae",
   "metadata": {},
   "outputs": [
    {
     "name": "stdout",
     "output_type": "stream",
     "text": [
      "Thought 1\n",
      "首先，我需要找到關於 Transformers NLP 的論文。我將搜尋 \"Transformer (model)\"。\n",
      "\n",
      "Action 1\n",
      "<search>Transformer (model)</search>\n",
      "\n"
     ]
    }
   ],
   "source": [
    "question = \"\"\"Question\n",
    "Transformers NLP 論文中，誰是最年輕的作者？\n",
    "\"\"\"\n",
    "\n",
    "# 此處設定停止序列，生成內容將停在第一個 \"Observation\" 前\n",
    "react_config = types.GenerateContentConfig(\n",
    "    stop_sequences=[\"\\nObservation\"],\n",
    "    system_instruction=model_instructions + example1 + example2,\n",
    ")\n",
    "\n",
    "react_chat = client.chats.create(\n",
    "    model='gemini-2.0-flash',\n",
    "    config=react_config,\n",
    ")\n",
    "\n",
    "resp = react_chat.send_message(question)\n",
    "print(resp.text)"
   ]
  },
  {
   "cell_type": "markdown",
   "id": "9bd3c416-1220-4181-98a7-d31b869bf2d5",
   "metadata": {},
   "source": [
    "接著你可以進一步提供資料給模型，讓其繼續推理。"
   ]
  },
  {
   "cell_type": "code",
   "execution_count": 46,
   "id": "14000706-107a-4dee-afc6-0b340ccdb0dc",
   "metadata": {},
   "outputs": [
    {
     "name": "stdout",
     "output_type": "stream",
     "text": [
      "Thought 2\n",
      "找到了論文，作者有：Ashish Vaswani, Noam Shazeer, Niki Parmar, Jakob Uszkoreit, Llion Jones, Aidan N. Gomez, Lukasz Kaiser, Illia Polosukhin。現在需要找出最年輕的作者。沒有其他資訊來源，我將搜尋每個作者的出生年份來確定。由於這是一項 NLP 任務，Aidan Gomez 很可能就是論文作者 Aidan N. Gomez。\n",
      "\n",
      "Action 2\n",
      "<search>Aidan N. Gomez</search>\n",
      "\n"
     ]
    }
   ],
   "source": [
    "observation = \"\"\"Observation 1\n",
    "[1706.03762] Attention Is All You Need\n",
    "Ashish Vaswani, Noam Shazeer, Niki Parmar, Jakob Uszkoreit, Llion Jones, Aidan N. Gomez, Lukasz Kaiser, Illia Polosukhin\n",
    "我們提出了一種全新的網路架構——Transformer，完全依靠注意力機制，捨棄了循環與卷積。\n",
    "\"\"\"\n",
    "resp = react_chat.send_message(observation)\n",
    "print(resp.text)"
   ]
  },
  {
   "cell_type": "markdown",
   "id": "01d6b831-1be4-4ec7-a1ab-aba2bfb3c262",
   "metadata": {},
   "source": [
    "該流程會重複進行，直至模型回覆 `<finish>` 指令。你可自行嘗試或參考 [Wikipedia 版 ReAct 範例](https://github.com/google-gemini/cookbook/blob/main/examples/Search_Wikipedia_using_ReAct.ipynb)。\n"
   ]
  },
  {
   "cell_type": "markdown",
   "id": "8f612633-b29f-424a-a5c0-0cb4c3ebac02",
   "metadata": {},
   "source": [
    "## 思考模式\n",
    "\n",
    "實驗性的 Gemini Flash 2.0 “Thinking” 模型已訓練出生成「思考過程」的能力，即模型在回答前所經歷的推理步驟。使用思考模式模型，可以在無需特別提示的情況下，得到更高品質的回答。但注意，使用 API 時只會回傳最終答案，若要查看中間思考步驟，請至 AI Studio 試用。\n",
    "\n",
    "<table align=left>\n",
    "  <td>\n",
    "    <a target=\"_blank\" href=\"https://aistudio.google.com/prompts/new_chat?model=gemini-2.0-flash-thinking-exp-01-21\"><img src=\"https://ai.google.dev/site-assets/images/marketing/home/icon-ais.png\" style=\"height: 24px\" height=24/> 在 AI Studio 開啟思考模式</a>\n",
    "  </td>\n",
    "</table>\n"
   ]
  },
  {
   "cell_type": "code",
   "execution_count": 48,
   "id": "8ffee842-0e32-474c-bf61-1eaa7a9c9cab",
   "metadata": {},
   "outputs": [
    {
     "data": {
      "text/markdown": [
       "要準確地回答「變形金剛 NLP 論文中最年輕的作者是誰？」這個問題，實際上**非常困難，甚至可以說是不可能準確回答**，原因如下：\n",
       "\n",
       "1. **缺乏明確的「最年輕」定義和官方記錄:**\n",
       "   - **年齡隱私:** 學術論文作者的年齡通常不會公開記錄在論文本身或學術資料庫中。追蹤作者的生日並計算發表論文時的年齡是極其繁瑣且不實際的。\n",
       "   - **論文數量龐大:**  「變形金剛 NLP 論文」是一個非常廣泛的範疇，涵蓋了數以千計甚至數以萬計的論文。要逐一篩選所有論文，找出所有作者，然後再確定他們的年齡，是不現實的。\n",
       "   - **共同作者問題:** 論文通常有多位作者，如何定義「最年輕的作者」？是指所有作者中最年輕的，還是指在貢獻度上排第一作者但年紀最小的？定義不明確。\n",
       "\n",
       "2. **「年輕」的定義是相對的:**\n",
       "   -  對於學術界來說，所謂的「年輕」也可能是相對的。一位在碩士或博士期間發表重要論文的作者，在學術界可能被認為是年輕有為，但他們的實際年齡可能已經二十多歲。\n",
       "\n",
       "**儘管無法找出確切的最年輕作者，我們可以從以下幾個角度來理解這個問題，並提供一些相關的思考方向：**\n",
       "\n",
       "* **關注年輕有為的學者:**  與其追求一個無法驗證的「最年輕」頭銜，不如關注那些在 NLP 領域，特別是 Transformer 相關領域展現出卓越才華和潛力的年輕學者。他們可能是在研究生階段就發表重要論文，或者在早期職業生涯中做出突出貢獻。\n",
       "\n",
       "* **Transformer 論文的作者群體:** 原始的 Transformer 論文 \"Attention is All You Need\" 的作者團隊來自 Google Brain 和 University of Toronto，他們當時大多是博士生、博士後研究員或年輕的研究科學家。這個團隊的平均年齡相對較輕，但要說誰是最年輕的，仍然需要逐一考證，而且意義不大。\n",
       "\n",
       "* **年輕作者的意義:**  提問者可能更想了解的是，在如此複雜和前沿的領域，是否有年輕的作者能夠做出重要的貢獻。答案是肯定的。學術界一直都有年輕人嶄露頭角，在 NLP 和 Transformer 領域也不例外。\n",
       "\n",
       "**總結來說，**  「變形金剛 NLP 論文中最年輕的作者」這個問題，更多的是一個概念性的疑問，而不是一個可以精確回答的事實性問題。 我們無法確定誰是絕對最年輕的，但可以肯定的是，在 NLP 領域，包括 Transformer 研究，一直都有年輕且有才華的作者在做出貢獻。\n",
       "\n",
       "**建議：** 與其追問「最年輕」，不如關注那些年輕學者在 Transformer NLP 領域的傑出工作，並鼓勵更多年輕人投身於這個充滿活力的研究方向。"
      ],
      "text/plain": [
       "<IPython.core.display.Markdown object>"
      ]
     },
     "execution_count": 48,
     "metadata": {},
     "output_type": "execute_result"
    }
   ],
   "source": [
    "import io\n",
    "from IPython.display import Markdown, clear_output\n",
    "\n",
    "response = client.models.generate_content_stream(\n",
    "    model='gemini-2.0-flash-thinking-exp',\n",
    "    contents='Transformers NLP 論文中最年輕的作者是誰？'\n",
    ")\n",
    "\n",
    "buf = io.StringIO()\n",
    "for chunk in response:\n",
    "    buf.write(chunk.text)\n",
    "    print(chunk.text, end='')\n",
    "\n",
    "clear_output()\n",
    "Markdown(buf.getvalue())"
   ]
  },
  {
   "cell_type": "markdown",
   "id": "ebc2db93-f1a9-4685-ab52-b1c3ed38d8a8",
   "metadata": {},
   "source": [
    "## Code 提示\n",
    "\n",
    "### 生成程式碼\n",
    "\n",
    "Gemini 模型也能用來生成程式碼、設定檔與腳本，這對學習程式語言或快速產出初稿非常有幫助。  \n",
    "但請注意，LLM 有時可能產生錯誤或重複訓練資料，務必先閱讀與測試生成的程式碼，並遵守相關授權規定。\n",
    "\n",
    "<table align=left>\n",
    "  <td>\n",
    "    <a target=\"_blank\" href=\"https://aistudio.google.com/prompts/1YX71JGtzDjXQkgdes8bP6i3oH5lCRKxv\"><img src=\"https://ai.google.dev/site-assets/images/marketing/home/icon-ais.png\" style=\"height: 24px\" height=24/> 在 AI Studio 開啟</a>\n",
    "  </td>\n",
    "</table>\n"
   ]
  },
  {
   "cell_type": "code",
   "execution_count": 49,
   "id": "cf7593be-da49-45ac-adbb-6fb3cc7adb60",
   "metadata": {},
   "outputs": [
    {
     "data": {
      "text/markdown": [
       "```python\n",
       "def factorial(n):\n",
       "    \"\"\"\n",
       "    Calculates the factorial of a non-negative integer.\n",
       "\n",
       "    Args:\n",
       "        n: A non-negative integer.\n",
       "\n",
       "    Returns:\n",
       "        The factorial of n, or 1 if n is 0.\n",
       "        Raises ValueError if n is negative.\n",
       "    \"\"\"\n",
       "    if n < 0:\n",
       "        raise ValueError(\"Factorial is not defined for negative numbers.\")\n",
       "    if n == 0:\n",
       "        return 1\n",
       "    else:\n",
       "        result = 1\n",
       "        for i in range(1, n + 1):\n",
       "            result *= i\n",
       "        return result\n",
       "```"
      ],
      "text/plain": [
       "<IPython.core.display.Markdown object>"
      ]
     },
     "execution_count": 49,
     "metadata": {},
     "output_type": "execute_result"
    }
   ],
   "source": [
    "# Gemini 模型通常會嘮叨，所以如果你只需要程式碼，\n",
    "# 請明確告知模型僅回傳程式碼，不附加任何解釋。\n",
    "code_prompt = \"\"\"\n",
    "請撰寫一個 Python 函數，用來計算數字的階乘。請只回傳程式碼，不要任何解釋。\n",
    "\"\"\"\n",
    "\n",
    "response = client.models.generate_content(\n",
    "    model='gemini-2.0-flash',\n",
    "    config=types.GenerateContentConfig(\n",
    "        temperature=1,\n",
    "        top_p=1,\n",
    "        max_output_tokens=1024,\n",
    "    ),\n",
    "    contents=code_prompt)\n",
    "\n",
    "Markdown(response.text)"
   ]
  },
  {
   "cell_type": "markdown",
   "id": "3285d362-5762-4346-bd7f-11cb9b1dd8ae",
   "metadata": {},
   "source": [
    "### 程式碼執行\n",
    "\n",
    "Gemini API 能自動執行生成的程式碼，並回傳執行結果。\n",
    "\n",
    "<table align=left>\n",
    "  <td>\n",
    "    <a target=\"_blank\" href=\"https://aistudio.google.com/prompts/11veFr_VYEwBWcLkhNLr-maCG0G8sS_7Z\"><img src=\"https://ai.google.dev/site-assets/images/marketing/home/icon-ais.png\" style=\"height: 24px\" height=24/> 在 AI Studio 開啟</a>\n",
    "  </td>\n",
    "</table>\n"
   ]
  },
  {
   "cell_type": "code",
   "execution_count": 51,
   "id": "6fd49adc-6baa-4db1-a2da-62453d4a57e3",
   "metadata": {},
   "outputs": [
    {
     "name": "stdout",
     "output_type": "stream",
     "text": [
      "{'text': '好的，我將生成前 14 個奇數質數，然後計算它們的總和。\\n'\n",
      "         '\\n'\n",
      "         '首先，我們要找出前 14 個奇數質數。質數是只能被 1 和自身整除的數。奇數質數是除了 2 以外的質數。\\n'\n",
      "         '\\n'\n",
      "         '以下是生成質數並篩選奇數質數的步驟：\\n'\n",
      "         '1. 從 3 開始迭代。\\n'\n",
      "         '2. 檢查當前數字是否為質數。\\n'\n",
      "         '3. 如果是質數，檢查它是否為奇數。\\n'\n",
      "         '4. 如果是奇數質數，添加到列表中。\\n'\n",
      "         '5. 重複步驟 1-4，直到列表中有 14 個數字。\\n'\n",
      "         '\\n'}\n",
      "-----\n",
      "{'executable_code': {'code': 'def is_prime(n):\\n'\n",
      "                             '    if n <= 1:\\n'\n",
      "                             '        return False\\n'\n",
      "                             '    for i in range(2, int(n**0.5) + 1):\\n'\n",
      "                             '        if n % i == 0:\\n'\n",
      "                             '            return False\\n'\n",
      "                             '    return True\\n'\n",
      "                             '\\n'\n",
      "                             'primes = []\\n'\n",
      "                             'num = 3\\n'\n",
      "                             'while len(primes) < 14:\\n'\n",
      "                             '    if is_prime(num):\\n'\n",
      "                             '        primes.append(num)\\n'\n",
      "                             '    num += 2  # Only check odd numbers\\n'\n",
      "                             '\\n'\n",
      "                             \"print(f'{primes=}')\\n\"\n",
      "                             '\\n'\n",
      "                             'import numpy as np\\n'\n",
      "                             'sum_of_primes = np.sum(primes)\\n'\n",
      "                             \"print(f'{sum_of_primes=}')\\n\",\n",
      "                     'language': 'PYTHON'}}\n",
      "-----\n",
      "{'code_execution_result': {'outcome': 'OUTCOME_OK',\n",
      "                           'output': 'primes=[3, 5, 7, 11, 13, 17, 19, 23, 29, '\n",
      "                                     '31, 37, 41, 43, 47]\\n'\n",
      "                                     'sum_of_primes=np.int64(326)\\n'}}\n",
      "-----\n",
      "{'text': '前 14 個奇數質數是 3, 5, 7, 11, 13, 17, 19, 23, 29, 31, 37, 41, 43 和 '\n",
      "         '47。它們的總和是 326。\\n'}\n",
      "-----\n"
     ]
    }
   ],
   "source": [
    "\n",
    "from pprint import pprint\n",
    "\n",
    "config = types.GenerateContentConfig(\n",
    "    tools=[types.Tool(code_execution=types.ToolCodeExecution())],\n",
    ")\n",
    "\n",
    "code_exec_prompt = \"\"\"\n",
    "請生成前 14 個奇數質數，然後計算它們的總和。\n",
    "\"\"\"\n",
    "\n",
    "response = client.models.generate_content(\n",
    "    model='gemini-2.0-flash',\n",
    "    config=config,\n",
    "    contents=code_exec_prompt)\n",
    "\n",
    "for part in response.candidates[0].content.parts:\n",
    "  pprint(part.to_json_dict())\n",
    "  print(\"-----\")"
   ]
  },
  {
   "cell_type": "markdown",
   "id": "f12d7942-2552-4e78-9ccf-ff84f563d6ae",
   "metadata": {},
   "source": [
    "這個回應包含多個部分：一般文字、生成的程式碼，以及執行程式碼後的結果。你可以分別檢視："
   ]
  },
  {
   "cell_type": "code",
   "execution_count": 52,
   "id": "d77eb9c8-842d-4a8b-a5af-3db04e4e9221",
   "metadata": {},
   "outputs": [
    {
     "data": {
      "text/markdown": [
       "好的，我將生成前 14 個奇數質數，然後計算它們的總和。\n",
       "\n",
       "首先，我們要找出前 14 個奇數質數。質數是只能被 1 和自身整除的數。奇數質數是除了 2 以外的質數。\n",
       "\n",
       "以下是生成質數並篩選奇數質數的步驟：\n",
       "1. 從 3 開始迭代。\n",
       "2. 檢查當前數字是否為質數。\n",
       "3. 如果是質數，檢查它是否為奇數。\n",
       "4. 如果是奇數質數，添加到列表中。\n",
       "5. 重複步驟 1-4，直到列表中有 14 個數字。\n",
       "\n"
      ],
      "text/plain": [
       "<IPython.core.display.Markdown object>"
      ]
     },
     "metadata": {},
     "output_type": "display_data"
    },
    {
     "data": {
      "text/markdown": [
       "```python\n",
       "def is_prime(n):\n",
       "    if n <= 1:\n",
       "        return False\n",
       "    for i in range(2, int(n**0.5) + 1):\n",
       "        if n % i == 0:\n",
       "            return False\n",
       "    return True\n",
       "\n",
       "primes = []\n",
       "num = 3\n",
       "while len(primes) < 14:\n",
       "    if is_prime(num):\n",
       "        primes.append(num)\n",
       "    num += 2  # Only check odd numbers\n",
       "\n",
       "print(f'{primes=}')\n",
       "\n",
       "import numpy as np\n",
       "sum_of_primes = np.sum(primes)\n",
       "print(f'{sum_of_primes=}')\n",
       "\n",
       "```"
      ],
      "text/plain": [
       "<IPython.core.display.Markdown object>"
      ]
     },
     "metadata": {},
     "output_type": "display_data"
    },
    {
     "data": {
      "text/markdown": [
       "```\n",
       "primes=[3, 5, 7, 11, 13, 17, 19, 23, 29, 31, 37, 41, 43, 47]\n",
       "sum_of_primes=np.int64(326)\n",
       "\n",
       "```"
      ],
      "text/plain": [
       "<IPython.core.display.Markdown object>"
      ]
     },
     "metadata": {},
     "output_type": "display_data"
    },
    {
     "data": {
      "text/markdown": [
       "前 14 個奇數質數是 3, 5, 7, 11, 13, 17, 19, 23, 29, 31, 37, 41, 43 和 47。它們的總和是 326。\n"
      ],
      "text/plain": [
       "<IPython.core.display.Markdown object>"
      ]
     },
     "metadata": {},
     "output_type": "display_data"
    }
   ],
   "source": [
    "for part in response.candidates[0].content.parts:\n",
    "    if part.text:\n",
    "        display(Markdown(part.text))\n",
    "    elif part.executable_code:\n",
    "        display(Markdown(f'```python\\n{part.executable_code.code}\\n```'))\n",
    "    elif part.code_execution_result:\n",
    "        if part.code_execution_result.outcome != 'OUTCOME_OK':\n",
    "            display(Markdown(f'## 狀態 {part.code_execution_result.outcome}'))\n",
    "        display(Markdown(f'```\\n{part.code_execution_result.output}\\n```'))"
   ]
  },
  {
   "cell_type": "markdown",
   "id": "4fa709a0-b2f4-474c-9458-a6166d54fa6c",
   "metadata": {},
   "source": [
    "### 解釋程式碼\n",
    "\n",
    "Gemini 模型也能解釋程式碼。例如，你可傳入一個 [bash 腳本](https://github.com/magicmonty/bash-git-prompt) 並提問：\n",
    "\n",
    "<table align=left>\n",
    "  <td>\n",
    "    <a target=\"_blank\" href=\"https://aistudio.google.com/prompts/1N7LGzWzCYieyOf_7bAG4plrmkpDNmUyb\"><img src=\"https://ai.google.dev/site-assets/images/marketing/home/icon-ais.png\" style=\"height: 24px\" height=24/> 在 AI Studio 開啟</a>\n",
    "  </td>\n",
    "</table>"
   ]
  },
  {
   "cell_type": "code",
   "execution_count": 53,
   "id": "cd3bd35d-b2f3-43f8-9b7d-226e31f4f953",
   "metadata": {},
   "outputs": [
    {
     "data": {
      "text/markdown": [
       "這個檔案是一個 **Bash 腳本**，設計用來 **強化你的終端機提示符號，讓你更容易掌握 Git 儲存庫的狀態**。\n",
       "\n",
       "**它是什麼？**\n",
       "\n",
       "*   **Bash 腳本：**  它是一系列命令，由 Bash (或其他相容的 shell，如 Zsh) 解譯並執行。\n",
       "*   **Git Prompt 增強工具：** 它主要的作用是讓你目前的目錄是一個 Git 儲存庫時，在你的命令提示字元中顯示 Git 的相關資訊。\n",
       "\n",
       "**它做什麼？**\n",
       "\n",
       "1.  **顯示 Git 狀態：**  告訴你目前的 Git 分支、是否已修改、是否有未提交的變更、是否與遠端儲存庫同步等等。\n",
       "2.  **可客製化：**  你可以設定顏色、符號和要顯示的資訊，根據你的喜好調整提示符號。\n",
       "3.  **使用主題：** 可以使用預設主題或者自訂主題。\n",
       "4.  **支援虛擬環境：** 可以同時顯示 Python 的虛擬環境名稱。\n",
       "\n",
       "**為何要使用它？**\n",
       "\n",
       "*   **提高效率：**  一眼就能看到 Git 狀態，不用每次都輸入 `git status`。\n",
       "*   **減少錯誤：**  在提交之前，能提醒你是否有未提交的變更。\n",
       "*   **更好的工作流程：**  在終端機中就能更清楚地了解 Git 儲存庫的狀態，使你更專注在工作上。\n",
       "*   **增強可視性：** 彩色提示符號能更快速地識別資訊。\n",
       "\n",
       "**簡單來說：**\n",
       "\n",
       "這個檔案就像一個外掛程式，幫你的終端機提示符號顯示重要的 Git 資訊。如果你經常使用 Git，它可以讓你更有效率地工作，並減少 Git 相關的錯誤。\n",
       "\n",
       "**如何使用它？**\n",
       "\n",
       "你通常需要將這個腳本複製到你的系統上，並在你的 shell 配置文件（例如 `.bashrc` 或 `.zshrc`）中 `source` 它，以便在每次啟動終端機時自動執行。 腳本本身包含一個函數 `gp_install_prompt`，可以用來安裝它。\n"
      ],
      "text/plain": [
       "<IPython.core.display.Markdown object>"
      ]
     },
     "execution_count": 53,
     "metadata": {},
     "output_type": "execute_result"
    }
   ],
   "source": [
    "file_contents = !curl https://raw.githubusercontent.com/magicmonty/bash-git-prompt/refs/heads/master/gitprompt.sh\n",
    "\n",
    "explain_prompt = f\"\"\"\n",
    "請以簡單明瞭的方式說明這個檔案的作用。它是什麼？我為何要使用它？\n",
    "\n",
    "```\n",
    "{file_contents}\n",
    "```\n",
    "\"\"\"\n",
    "\n",
    "response = client.models.generate_content(\n",
    "    model='gemini-2.0-flash',\n",
    "    contents=explain_prompt)\n",
    "\n",
    "Markdown(response.text)"
   ]
  },
  {
   "cell_type": "markdown",
   "id": "91c27408-c7e4-471d-80c3-bb716c171ff8",
   "metadata": {},
   "source": [
    "回應內容可能會說明：  \n",
    "這個 `git-prompt.sh` 是一個 shell 腳本，設計來美化你在 Git 使用時的命令提示符，直接顯示目前 Git 狀態（例如分支、檔案變動等）。簡而言之，它是一個提升效率與視覺效果的工具。\n",
    "\n",
    "## 進一步學習\n",
    "\n",
    "若想更深入了解提示工程，請參考以下資源：\n",
    "\n",
    "* 閱讀今日教材附上的白皮書\n",
    "* 試用筆記本上方推薦的應用程式（如 [TextFX](https://textfx.withgoogle.com/)、[SQL Talk](https://sql-talk-r5gdynozbq-uc.a.run.app/) 及 [NotebookLM](https://notebooklm.google/)）\n",
    "* 閱讀 Gemini API 文件中的 [提示工程入門](https://ai.google.dev/gemini-api/docs/prompting-intro)\n",
    "* 探索 Gemini API 的 [提示範例庫](https://ai.google.dev/gemini-api/prompts) 並在 AI Studio 試用\n",
    "* 參考 Gemini API Cookbook 的 [範例](https://github.com/google-gemini/cookbook/blob/main/examples/) 與 [快速入門](https://github.com/google-gemini/cookbook/blob/main/quickstarts/)\n",
    "\n",
    "另外，請別忘了參加 Day 3 的 codelab，屆時會介紹更進階的提示結合程式碼執行技巧。"
   ]
  },
  {
   "cell_type": "code",
   "execution_count": 3,
   "id": "919a3488-12fd-41bc-8b58-2919ec7dbfed",
   "metadata": {},
   "outputs": [],
   "source": [
    "# Copyright 2025 Google LLC.\n",
    "\n",
    "# @title 根據 Apache License, Version 2.0（以下簡稱「授權條款」）取得授權；\n",
    "# 除非遵循授權條款，否則不得使用此檔案。\n",
    "# 你可以從以下網址取得授權條款副本：\n",
    "#\n",
    "# https://www.apache.org/licenses/LICENSE-2.0\n",
    "#\n",
    "# 除非適用法律要求或書面同意，本軟體皆按「現狀」提供，\n",
    "# 不附帶任何形式的明示或暗示保證。\n",
    "# 請參閱授權條款以了解具體權限與限制。"
   ]
  }
 ],
 "metadata": {
  "kernelspec": {
   "display_name": "Python 3 (ipykernel)",
   "language": "python",
   "name": "python3"
  },
  "language_info": {
   "codemirror_mode": {
    "name": "ipython",
    "version": 3
   },
   "file_extension": ".py",
   "mimetype": "text/x-python",
   "name": "python",
   "nbconvert_exporter": "python",
   "pygments_lexer": "ipython3",
   "version": "3.11.11"
  }
 },
 "nbformat": 4,
 "nbformat_minor": 5
}
