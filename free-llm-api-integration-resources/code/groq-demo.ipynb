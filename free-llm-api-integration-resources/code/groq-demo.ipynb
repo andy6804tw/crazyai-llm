{
 "cells": [
  {
   "cell_type": "markdown",
   "id": "954bdf87-7074-4eb7-9628-f17bb48756cf",
   "metadata": {},
   "source": [
    "# Groq 免費體驗 Llama API\n",
    "本範例將帶你體驗 **Groq** 所提供的免費 LLM API、Whisper 語音轉文字，以及多模態模型的使用方法。  \n",
    "同時也會示範如何使用 **OpenAI 兼容** 的寫法來調用 Groq API，方便你將現有的 OpenAI 程式碼「無痛轉移」到 Groq。\n",
    "\n",
    "## 目錄\n",
    "1. [環境準備](#環境準備)\n",
    "2. [設定 API Key](#設定-api-key)\n",
    "3. [測試 LLM（文字生成）](#測試-llm文字生成)\n",
    "   1. [llama3-8b-8192：基礎範例](#31-llama3-8b-8192基礎範例)\n",
    "   2. [llama3-8b-8192：開啟 stream](#32-llama3-8b-8192開啟-stream)\n",
    "   3. [deepseek-r1-distill-llama-70b：展示思維鏈](#33-deepseek-r1-distill-llama-70b展示思維鏈)\n",
    "4. [多模態用法：文字與影像混合輸入](#多模態-llm文字與影像混合輸入)\n",
    "5. [Whisper（語音轉文字）](#whisper語音轉文字)\n",
    "6. [OpenAI 兼容 API 寫法](#openai-兼容-api-寫法)\n",
    "\n",
    "<a name=\"環境準備\"></a>\n",
    "## 1. 環境準備 \n",
    "安裝套件："
   ]
  },
  {
   "cell_type": "code",
   "execution_count": null,
   "id": "c753e35f-ae06-4e57-9dfc-bac92a2ded1f",
   "metadata": {},
   "outputs": [],
   "source": [
    "!pip install groq -q"
   ]
  },
  {
   "cell_type": "markdown",
   "id": "68cccfe5-75d7-46a2-b753-5ed8297fd832",
   "metadata": {},
   "source": [
    "<a name=\"設定-api-key\"></a>\n",
    "## 2. 設定 API Key\n",
    "登入[Groq](https://console.groq.com/login)，點選「API Keys」選項後，再按下「Create API Key」按鈕，輸入你喜歡的名稱並按下「Submit」，即可獲得專屬的 API Key。請注意，API Key 僅會在建立後的視窗中顯示，關閉後便無法再次查閱，因此建議妥善保存。\n",
    "接著將 `api_key` 請替換成 **你的 Groq API Key**。"
   ]
  },
  {
   "cell_type": "code",
   "execution_count": 2,
   "id": "982c9e1b-e574-425a-8887-eca1979509d4",
   "metadata": {},
   "outputs": [],
   "source": [
    "# 設定 Groq API Key\n",
    "api_key = \"你的API_KEY\""
   ]
  },
  {
   "cell_type": "markdown",
   "id": "e40017b2-acf2-4565-a3be-dca8a5e7f53e",
   "metadata": {},
   "source": [
    "<a name=\"測試-llm文字生成\"></a>\n",
    "## 3. 測試 LLM（文字生成）\n",
    "\n",
    "本節將示範如何使用 **Groq** 的 LLM 進行文字生成。以下分為三個範例：\n",
    "\n",
    "1. **3.1** 使用 `llama3-8b-8192` 基礎範例  \n",
    "2. **3.2** 使用 `llama3-8b-8192` 並 **開啟 stream**（流式輸出）  \n",
    "3. **3.3** 使用 `deepseek-r1-distill-llama-70b` 並展示「思維鏈」結果\n",
    "\n",
    "<a name=\"31-llama3-8b-8192基礎範例\"></a>\n",
    "### 3.1 llama3-8b-8192：基礎範例"
   ]
  },
  {
   "cell_type": "code",
   "execution_count": 4,
   "id": "81dd35f6-610a-4c63-b09e-066743852094",
   "metadata": {},
   "outputs": [
    {
     "name": "stdout",
     "output_type": "stream",
     "text": [
      "=== llama3-8b-8192 (基礎) 回應 ===\n",
      "台灣的美食真的很多！以下是一些台灣最受歡迎的美食：\n",
      "\n",
      "1. Beef Noodle Soup (): 一道經典的台灣美食，使用嫩牛肉、麵條和豐富的湯頭。\n",
      "2. Oyster Omelet (): 一道鹹香的美食，使用蠔肉和麵粉製作的蛋餅。\n",
      "3. Stinky Tofu (): 一道聞名的台灣美食，使用發酵的豆腐製作，具有強烈的臭味。\n",
      "4. Bubble Tea (): 一道流行的台灣飲料，使用茶葉和珍珠製作的奶茶。\n",
      "5. Shaved Ice (): 一道涼涼的美食，使用刨冰和多種 toppings製作的雪糕。\n",
      "6. Fried Chicken Cutlet (): 一道 crispy 的美食，使用雞肉和麵粉製作的雞排。\n",
      "7. Congee (): 一道暖暖的美食，使用米飯和水製作的粥。\n",
      "8. Taro Ball (): 一道甜甜的美食，使用芋頭和麵粉製作的芋頭球。\n",
      "9. Salted Crispy Chicken (): 一道鹹鹹的美食，使用雞肉和鹽製作的鹹雞。\n",
      "10. Ah-Gei (): 一道經典的台灣美食，使用豆腐和麵粉製作的豆腐餅。\n",
      "\n",
      "這些美食只是一些台灣的代表性美食，台灣的美食真的很多，還有很多其他的美食等待你去嘗試！\n"
     ]
    }
   ],
   "source": [
    "from groq import Groq\n",
    "\n",
    "# 建立 Groq 客戶端\n",
    "client = Groq(api_key=api_key)\n",
    "model_name = \"llama3-8b-8192\"  # 指定使用 llama3-8b-8192 模型\n",
    "\n",
    "messages = [\n",
    "    {\n",
    "        \"role\": \"system\",\n",
    "        \"content\": \"你現在是個問答小幫手，並使用繁體中文回答問題。\",\n",
    "    },\n",
    "    {\n",
    "        \"role\": \"user\",\n",
    "        \"content\": \"台灣有什麼美食？\",\n",
    "    }\n",
    "]\n",
    "\n",
    "response = client.chat.completions.create(\n",
    "    model=model_name,\n",
    "    messages=messages,\n",
    "    temperature=0.9,\n",
    "    max_completion_tokens=512,\n",
    "    top_p=0.2,\n",
    "    stream=False\n",
    ")\n",
    "\n",
    "print(\"=== llama3-8b-8192 (基礎) 回應 ===\")\n",
    "print(response.choices[0].message.content)"
   ]
  },
  {
   "cell_type": "markdown",
   "id": "f50ca4f7-a817-425e-97f2-e3e6c237b6c6",
   "metadata": {},
   "source": [
    "<a name=\"32-llama3-8b-8192開啟-stream\"></a>\n",
    "### 3.2 llama3-8b-8192：開啟 stream\n"
   ]
  },
  {
   "cell_type": "code",
   "execution_count": 7,
   "id": "a32524c1-f333-45a0-a2f3-ee6788b9c54b",
   "metadata": {
    "tags": []
   },
   "outputs": [
    {
     "name": "stdout",
     "output_type": "stream",
     "text": [
      "=== llama3-8b-8192 (stream) 回應 ===\n",
      "台灣有很多美食！以下是一些台灣最受歡迎的美食：\n",
      "\n",
      "1. Beef Noodle Soup ():一道台灣最著名的菜式，使用牛肉和麵條做成的浸泡湯。\n",
      "2. Oyster Omelet ():一個台灣最受歡迎的街頭小食，使用生蚝和麵條做成的蛋餅。\n",
      "3. Stinky Tofu ():一個台灣最知名的小食，使用發酵的豆腐做成的臭豆腐。\n",
      "4. Bubble Tea ():一個台灣發明的飲料，使用茶葉和珍珠做成的飲料。\n",
      "5. Shaved Ice ():一個台灣最受歡迎的甜食，使用刨冰和甜品做成的冰淇淋。\n",
      "6. Fried Chicken Cutlet ():一個台灣最受歡迎的炸雞，使用雞肉和麵粉做成的炸雞。\n",
      "7. Congee ():一個台灣最受歡迎的早餐菜式，使用粥和肉菜做成的粥。\n",
      "8. Taro Ball ():一個台灣最受歡迎的甜食，使用芋頭和麵粉做成的芋頭球。\n",
      "9. Ah-Gei Wontons ():一個台灣最受歡迎的湯麵，使用軟軟的湯麵和肉菜做成的湯麵。\n",
      "10. Mango Shaved Ice ():一個台灣最受歡迎的甜食，使用刨冰和芒果做成的芒果冰淇淋。\n",
      "\n",
      "這些只是台灣美食的一部分，台灣還有很多其他的美食等待您發掘！"
     ]
    }
   ],
   "source": [
    "from groq import Groq\n",
    "\n",
    "# 建立 Groq 客戶端\n",
    "client = Groq(api_key=api_key)\n",
    "model_name = \"llama3-8b-8192\"  # 指定使用 llama3-8b-8192 模型\n",
    "\n",
    "stream_response = client.chat.completions.create(\n",
    "    model=model_name,\n",
    "    messages=messages,\n",
    "    temperature=0.7,\n",
    "    max_completion_tokens=512,\n",
    "    top_p=0.9,\n",
    "    stream=True  # 開啟流式輸出\n",
    ")\n",
    "\n",
    "print(\"=== llama3-8b-8192 (stream) 回應 ===\")\n",
    "response_text = \"\"\n",
    "for chunk in stream_response:\n",
    "    if chunk.choices[0].delta.content:\n",
    "        text_piece = chunk.choices[0].delta.content\n",
    "        response_text += text_piece\n",
    "        print(text_piece, end=\"\", flush=True)\n",
    "\n",
    "# print(\"\\n---\\n最終回應：\", response_text)"
   ]
  },
  {
   "cell_type": "markdown",
   "id": "95b83601-98a6-4a2e-9661-99e7c846e0eb",
   "metadata": {},
   "source": [
    "<a name=\"33-deepseek-r1-distill-llama-70b展示思維鏈\"></a>\n",
    "### 3.3 使用 deepseek-r1-distill-llama-70b：展示思維鏈\n"
   ]
  },
  {
   "cell_type": "code",
   "execution_count": 10,
   "id": "925e53aa-a351-47f1-9183-eeb6fab72c7b",
   "metadata": {},
   "outputs": [
    {
     "name": "stdout",
     "output_type": "stream",
     "text": [
      "<think>\n",
      "嗯，今天有人問我世界上最高的山是什麼，我得好好想想。首先，我好像在哪裡聽過，應該是珠穆朗瑪峰吧？或者是不是聖母峰？好像兩個名字都是指同一座山。珠穆朗瑪峰在喜馬拉雅山脈，那邊是不是有很多高山？我好像在地理課上學過，喜馬拉雅山脈是世界上最高的山脈，珠穆朗瑪峰就是其中最高的。\n",
      "\n",
      "可是，我是不是把名字搞混了？聖母峰是不是另一個名字？好像是翻譯的問題，英文叫Mount Everest，中文翻譯成聖母峰，而藏文或者其他語言可能叫珠穆朗瑪峰。所以兩者都是指同一座山。\n",
      "\n",
      "那這座山有多高呢？我記得海拔高度大約是8848米，對吧？可能最近有重新測量過，數字可能有所變化，但大致上是這個數字。喜馬拉雅山脈是由於板塊運動形成的，所以那邊的山還在慢慢長高，每年大概幾毫米的高度增加。\n",
      "\n",
      "我還記得珠穆朗瑪峰的位置，是在尼泊爾和中國西藏的邊界上。所以登山的路線有兩邊，一邊是從尼泊爾這邊，一邊是從西藏這邊。從尼泊爾那邊登山可能比較常見，因為那邊有基地營，很多登山者會從那邊出發。\n",
      "\n",
      "登山的季節是春季，五月份左右，天氣比較穩定，風比較小，但即使如此，登頂還是非常危險的。有很多人嘗試登頂，但也有不少人失敗或者遇到危險。\n",
      "\n",
      "我好像還看過一些紀錄片，珠穆朗瑪峰上面環境非常惡劣，低溫，低氧，風速很高。登山者需要進行高山適應，否則可能會得高山症，頭痛、嘔吐，甚至更嚴重的症狀。\n",
      "\n",
      "還有，珠穆朗瑪峰上面有很多垃圾，登山者留下的，現在有很多清理的行動，試圖保持山脈的清潔。這也是個大問題，因為每年有很多人去登山，留下的垃圾和人體廢物需要處理。\n",
      "\n",
      "另外，我好像聽說過珠穆朗瑪峰的高度可能會因為地震或者板塊運動而有所變化。比如，2015年尼泊爾大地震可能影響了山峰的高度，但後來又測量過，高度差不多恢復了。\n",
      "\n",
      "還有，珠穆朗瑪峰的名字在不同的語言裡有不同的叫法，比如在尼泊爾語裡叫Sagarmatha，意思是“天空的眉毛”或者“天空的頭飾”。而在藏語裡，珠穆朗瑪峰的意思是“世界之母”或者“最高的山峰”。\n",
      "\n",
      "登山技術方面，珠穆朗瑪峰需要很高的登山技術和體力，尤其是最後的部分，需要用冰斧和繩索。很多人會雇佣嚮導，或者加入登山隊，才能有機會成功登頂。\n",
      "\n",
      "我還記得第一位登頂的人是誰，應該是希拉里爵士和夏帕從尼泊爾那邊登上去了，1953年左右。後來有更多人登上了山峰，但每次登山都充滿挑戰。\n",
      "\n",
      "所以，總結一下，世界上最高的山是珠穆朗瑪峰，也就是聖母峰，海拔高度約8848米，位於喜馬拉雅山脈的尼泊爾和西藏交界處，是登山者的夢想之地，但同時也充滿危險和挑戰。\n",
      "</think>\n",
      "\n",
      "世界上最高的山是珠穆朗瑪峰，通常也被稱為聖母峰（Mount Everest）。它位於喜馬拉雅山脈，橫跨尼泊爾和中國西藏的邊界。珠穆朗瑪峰的高度約為8,848米（29,029英尺），使其成為地球上最高的山峰。\n",
      "\n",
      "珠穆朗瑪峰不僅以其壯麗的高度聞名，还因其險峻的地形和極端的氣候條件而聞名。登山者們通常在春季（5月）嘗試登頂，因為那時的天氣相對穩定，風勢較小。然而，低溫、低氧和高風速仍然對登山者構成重大挑戰。\n",
      "\n",
      "此外，珠穆朗瑪峰的環境問題也備受關注。每年有數千名登山者和探險家前來挑戰，這導致了垃圾和人體廢物的累積，對環境造成了影響。近年來，已經有多項行動開始清理山脈上的垃圾，以保護這個自然奇觀。\n",
      "\n",
      "珠穆朗瑪峰的名字在不同的語言中有不同的含義。例如，在尼泊爾語中，它被稱為“Sagarmatha”，意為“天空的眉毛”或“天空的頭飾”，而在藏語中，它被稱為“珠穆朗瑪”，意為“世界之母”或“最高的山峰”。\n",
      "\n",
      "登山技術上，珠穆朗瑪峰需要高度的登山技能和體力，尤其是最後的攀登部分，通常需要使用冰斧和繩索。許多登山者會雇佣嚮導或加入登山隊，以增加成功登頂的機會。\n",
      "\n",
      "珠穆朗瑪峰的首次成功登頂由埃德蒙·希拉里爵士（Sir Edmund Hillary）和夏帕·丹增（Tenzing Norgay）於1953年5月29日完成。自那以後，更多人成功登上了山峰，但每次登山仍然充滿挑戰。\n",
      "\n",
      "總之，珠穆朗瑪峰不僅是地理上的奇觀，也是登山愛好者的夢想之地，儘管它充滿危險和挑戰。"
     ]
    }
   ],
   "source": [
    "from groq import Groq\n",
    "\n",
    "# 建立 Groq 客戶端\n",
    "client = Groq(api_key=api_key)\n",
    "model_name = \"deepseek-r1-distill-llama-70b\"\n",
    "\n",
    "messages = [\n",
    "    {\n",
    "        \"role\": \"system\",\n",
    "        \"content\": \"你現在是個問答小幫手，並使用繁體中文回答問題。\",\n",
    "    },\n",
    "    {\n",
    "        \"role\": \"user\",\n",
    "        \"content\": \"世界上最高的山是什麼？\",\n",
    "    }\n",
    "]\n",
    "\n",
    "response_text = \"\"\n",
    "completion = client.chat.completions.create(\n",
    "    model=model_name,\n",
    "    messages=messages,\n",
    "    temperature=0.7,\n",
    "    max_completion_tokens=4096,\n",
    "    top_p=0.9,\n",
    "    stream=True,  # 也可用 stream=True 來即時顯示\n",
    "    reasoning_format=\"raw\"  # 允許顯示 <think> 區塊\n",
    ")\n",
    "\n",
    "for chunk in completion:\n",
    "    print(chunk.choices[0].delta.content or \"\", end=\"\")\n",
    "    if chunk.choices[0].delta.content:\n",
    "        response_text += chunk.choices[0].delta.content\n",
    "\n",
    "# print(\"=== deepseek-r1-distill-llama-70b 回應 ===\")\n",
    "# print(response_text)"
   ]
  },
  {
   "cell_type": "markdown",
   "id": "42ef0118-b316-40c9-806c-6a78f6d79c50",
   "metadata": {},
   "source": [
    "<a name=\"多模態-llm文字與影像混合輸入\"></a>\n",
    "\n",
    "## 4. 多模態 LLM（文字與影像混合輸入）\n",
    "目前 Groq 提供 Llama3.2-90B-Vision-Preview，支援文字與影像的混合輸入。\n",
    "\n"
   ]
  },
  {
   "cell_type": "code",
   "execution_count": 12,
   "id": "d8b8bc17-c441-4195-b034-782f52727c15",
   "metadata": {},
   "outputs": [],
   "source": [
    "import base64\n",
    "\n",
    "# 讀取本機圖片並轉為 Base64\n",
    "def encode_image(image_path):\n",
    "    with open(image_path, \"rb\") as image_file:\n",
    "        return base64.b64encode(image_file.read()).decode(\"utf-8\")\n",
    "\n",
    "# 圖片路徑\n",
    "image_path = \"test.jpg\"\n",
    "base64_image = encode_image(image_path)"
   ]
  },
  {
   "cell_type": "code",
   "execution_count": 14,
   "id": "d4ad05b3-4bff-421a-9d2a-e8fa6fb8a16a",
   "metadata": {},
   "outputs": [
    {
     "name": "stdout",
     "output_type": "stream",
     "text": [
      "根據圖片的外形與形狀，這種海魚很可能是長身的鰆魚。還有些例子是可能是花鱸與長身的鯧鱗魚。也有一種魚叫做黃線魨，與花鱸一樣都有明亮的條紋。所有這幾種魚可以找到於台灣水域。\n",
      "\n",
      "\n",
      "\n",
      "黃線魨與花鱸有最明亮和美麗的條紋，可以輕易辨認。黃線魨有濃飽和的黃色條紋和紅色的眼睛（且稍白、黃或灰色）。花鱸有黑色與黃色條紋，以及紅色或藍灰色的眼睛。兩種魚都有一個與魨科魚類最著名紅鱗牛魨相似的背鰭胸鰭，然而背鰭、尾鰭略微不同，尾鰭有黑色的條紋或花紋。花鱸與黃線魨的眼睛顯得更大。黃邊龍鯛與兩者眼神略微一致的大小，同樣有大量圖案和條紋。當這些魚還年輕時，背部有條帶，紅色條紋，或有條紋，深紅色和紫色條紋與圖案。對比同類魨科魚種，紅鱗牛魨有與魨魚和蛤蜊有關的和明顯不同與紅鱗魨魚一起相映成趣的皮膚變化，頗有美麗的條纹。與花鱸比較相似的一種魚是長身鯆類。然而長身鯆目眼的配色與美麗條紋相差甚遠，與長身鯆類鳍部上的厚皮相比，與生理上的皮膚之變換差了許多。長身鯆類鱗片粗糙。當比同類魚一起比較時，這是一種相差甚遠的魚種，不難區別。還有一些其他與長身鯆類或鰆魚（比較清晰的魚種）之間的圖案是，紅鱗牛魨與花鱸有明亮的紅色或黃色與更明亮的色澤。背部相當平直的花鱸與長身花鱸與紅鱗牛魨相較之下，長身花鱸是明亮金色的，與花鱸不完全為明亮。花鱸頂部與兩側邊有明亮的色澤。在圖中花鱸魚尾略微凸起，長身花鱸是平和弧線，兩者分量都可以深，然而長身花鱸也可以具有白色和黑色條紋，與圖中的黃線魨相近。魚種中沒有明亮金色或者色澤與紅色條紋相似的魚。\n"
     ]
    }
   ],
   "source": [
    "from groq import Groq\n",
    "\n",
    "# 建立 Groq 客戶端\n",
    "client = Groq(api_key=api_key)\n",
    "model_name = \"llama-3.2-90b-vision-preview\"\n",
    "\n",
    "completion = client.chat.completions.create(\n",
    "    model=model_name,\n",
    "    messages=[\n",
    "        {\n",
    "            \"role\": \"user\",\n",
    "            \"content\": [\n",
    "                {\n",
    "                    \"type\": \"text\",\n",
    "                    \"text\": \"你是一個專業的台灣釣魚專家，知道台灣附近的海域有哪些魚種。這張圖片裡有什麼?\"\n",
    "                },\n",
    "                {\n",
    "                    \"type\": \"image_url\",\n",
    "                    \"image_url\": {\n",
    "                        \"url\": f\"data:image/jpeg;base64,{base64_image}\"\n",
    "                    }\n",
    "                }\n",
    "            ]\n",
    "        }\n",
    "    ],\n",
    "    temperature=1,\n",
    "    max_completion_tokens=1024,\n",
    "    top_p=1,\n",
    "    stream=False,\n",
    "    stop=None,\n",
    ")\n",
    "\n",
    "print(completion.choices[0].message.content)"
   ]
  },
  {
   "cell_type": "markdown",
   "id": "9c6623a6-9dae-4725-9ff1-8c5788e4c334",
   "metadata": {},
   "source": [
    "<a name=\"whisper語音轉文字\"></a>\n",
    "\n",
    "## 5. Whisper（語音轉文字）"
   ]
  },
  {
   "cell_type": "code",
   "execution_count": 3,
   "id": "cd3b80a0-7bee-473d-8246-998aa66dab94",
   "metadata": {},
   "outputs": [
    {
     "name": "stdout",
     "output_type": "stream",
     "text": [
      "=== 轉錄內容 ===\n",
      "部長好 帶來金周刊提問中研院院士郭培恩建議台灣的健保資料庫資訊完整可以從資料庫事先找出高風險族群出現症狀前提早判斷他們染疫後要使用哪一種口服藥然後再搭配物流將藥物送到患者家中不用到藥局排隊請問指揮中心會不會採用這樣子的建議謝謝那你們還有一些開藥的法律上的問題那我们会研究\n",
      "\n",
      "=== 轉錄資訊 ===\n",
      "任務類型: transcribe\n",
      "語言: Chinese\n",
      "音訊時長: 31.61 秒\n",
      "\n",
      "=== 分段內容 ===\n",
      "[0.00s - 3.70s] 部長好 帶來金周刊提問\n",
      "[3.70s - 8.30s] 中研院院士郭培恩建議台灣的健保資料庫資訊完整\n",
      "[8.30s - 12.08s] 可以從資料庫事先找出高風險族群出現症狀前\n",
      "[12.08s - 15.38s] 提早判斷他們染疫後要使用哪一種口服藥\n",
      "[15.38s - 18.90s] 然後再搭配物流將藥物送到患者家中\n",
      "[18.90s - 20.26s] 不用到藥局排隊\n",
      "[20.26s - 23.12s] 請問指揮中心會不會採用這樣子的建議\n",
      "[23.12s - 23.52s] 謝謝\n",
      "[23.52s - 28.24s] 那你們還有一些開藥的法律上的問題\n",
      "[28.24s - 30.36s] 那我们会研究\n"
     ]
    }
   ],
   "source": [
    "from groq import Groq\n",
    "\n",
    "# 建立 Groq 客戶端\n",
    "client = Groq(api_key=api_key)\n",
    "filename = \"疫情記者會.wav\"\n",
    "\n",
    "with open(filename, \"rb\") as file:\n",
    "    transcription = client.audio.transcriptions.create(\n",
    "      file=(filename, file.read()),\n",
    "      model=\"whisper-large-v3\",\n",
    "      language=\"zh\",\n",
    "      response_format=\"verbose_json\",\n",
    "    )\n",
    "    \n",
    "print(\"=== 轉錄內容 ===\")\n",
    "print(transcription.text)\n",
    "print(\"\\n=== 轉錄資訊 ===\")\n",
    "print(f\"任務類型: {transcription.task}\")\n",
    "print(f\"語言: {transcription.language}\")\n",
    "print(f\"音訊時長: {transcription.duration} 秒\")\n",
    "\n",
    "print(\"\\n=== 分段內容 ===\")\n",
    "for segment in transcription.segments:\n",
    "    print(f\"[{segment['start']:.2f}s - {segment['end']:.2f}s] {segment['text']}\")"
   ]
  },
  {
   "cell_type": "code",
   "execution_count": 57,
   "id": "a9a4fe4b-009f-467b-8b92-f7e3f25117e0",
   "metadata": {},
   "outputs": [],
   "source": [
    "from datetime import timedelta\n",
    "\n",
    "# 轉換為 SRT 字幕檔\n",
    "srt_entries = []\n",
    "for segment in transcription.segments:\n",
    "    start_time = str(timedelta(seconds=segment[\"start\"])).replace(\".\", \",\")[:12]\n",
    "    end_time = str(timedelta(seconds=segment[\"end\"])).replace(\".\", \",\")[:12]\n",
    "    srt_entries.append(f\"{segment['id'] + 1}\\n{start_time} --> {end_time}\\n{segment['text']}\\n\")\n",
    "\n",
    "# 生成 SRT 字串\n",
    "srt_content = \"\\n\".join(srt_entries)\n",
    "\n",
    "# 儲存 SRT 檔案\n",
    "srt_file_path = \"transcription.srt\"\n",
    "with open(srt_file_path, \"w\", encoding=\"utf-8\") as f:\n",
    "    f.write(srt_content)"
   ]
  },
  {
   "cell_type": "markdown",
   "id": "9c39a0b7-66c1-4682-bb9a-b765b45917d0",
   "metadata": {},
   "source": [
    "<a name=\"openai-兼容-api-寫法\"></a>\n",
    "\n",
    "## 6. OpenAI 兼容 API 寫法\n",
    "Groq API 兼容 OpenAI API，可直接替換 api_base 來適配 OpenAI 既有程式碼。\n",
    "\n",
    "當出現以下錯誤訊息時，請安裝指定版本 httpx。\n",
    "\n",
    "> TypeError: Client.__init__() got an unexpected keyword argument 'proxies'\n",
    "\n",
    "\n",
    "```\n",
    "pip install httpx==0.27.2\n",
    "```"
   ]
  },
  {
   "cell_type": "code",
   "execution_count": 17,
   "id": "e57773d6-0a86-4f55-b55b-f4140afb2b2d",
   "metadata": {},
   "outputs": [],
   "source": [
    "import os\n",
    "from openai import OpenAI\n",
    "\n",
    "client = OpenAI(\n",
    "    base_url=\"https://api.groq.com/openai/v1\",  # 設定 API 伺服器的基礎 URL\n",
    "    api_key=api_key,\n",
    ")"
   ]
  },
  {
   "cell_type": "code",
   "execution_count": 19,
   "id": "c2dfe7e4-5da9-4f1c-aa7a-80e33939608c",
   "metadata": {},
   "outputs": [
    {
     "name": "stdout",
     "output_type": "stream",
     "text": [
      "法國的首都是巴黎（Paris）！\n"
     ]
    }
   ],
   "source": [
    "model_name = \"llama3-8b-8192\"  # 指定使用 llama3-8b-8192 模型\n",
    "# 發送聊天請求\n",
    "response = client.chat.completions.create(\n",
    "    messages=[\n",
    "        {\n",
    "            \"role\": \"system\",\n",
    "            \"content\": \"你現在是個問答小幫手，並使用繁體中文回答問題。\",  # 設定系統角色，引導 AI 以繁體中文回答\n",
    "        },\n",
    "        {\n",
    "            \"role\": \"user\",\n",
    "            \"content\": \"請問法國的首都？\",  # 使用者的提問\n",
    "        }\n",
    "    ],\n",
    "    model=model_name,  # 指定使用的 AI 模型\n",
    "    temperature=1,  # 設定溫度值，影響回答的隨機性\n",
    "    max_tokens=512,  # 設定回應的最大 Token 數（字數限制）\n",
    "    top_p=1  # 設定 Top-p，用於控制回應的多樣性\n",
    ")\n",
    "\n",
    "# 印出 AI 的回應內容\n",
    "print(response.choices[0].message.content)"
   ]
  },
  {
   "cell_type": "markdown",
   "id": "8f4685e5-63c2-4b95-a249-457a37c72c28",
   "metadata": {},
   "source": [
    "<a name=\"結語\"></a>\n",
    "\n",
    "## 7. 結語\n",
    "\n",
    "透過本教材，你已學習如何：\n",
    "\n",
    "- **呼叫 Groq API** 進行 **文字生成**\n",
    "- **使用 Streaming 模式** 進行即時輸出\n",
    "- **測試思維鏈（CoT）模型**\n",
    "- **使用多模態模型處理文字 + 影像**\n",
    "- **進行語音轉文字**\n",
    "- **使用 OpenAI 兼容 API**\n",
    "\n",
    "**Groq** 提供 **免費** 且 **高速** 的推理能力，適合 **AI 開發者** 進行各種測試。你可以嘗試不同的應用場景，如 **AI 助手、Chatbot、語音轉錄、影像問答** 等，探索更多可能性！\n",
    "\n",
    "\n",
    "\n",
    "\n",
    "\n",
    "\n"
   ]
  },
  {
   "cell_type": "code",
   "execution_count": null,
   "id": "4d4635e5-7a20-4eb7-aadf-a46762a1fd4b",
   "metadata": {},
   "outputs": [],
   "source": []
  }
 ],
 "metadata": {
  "kernelspec": {
   "display_name": "Python 3 (ipykernel)",
   "language": "python",
   "name": "python3"
  },
  "language_info": {
   "codemirror_mode": {
    "name": "ipython",
    "version": 3
   },
   "file_extension": ".py",
   "mimetype": "text/x-python",
   "name": "python",
   "nbconvert_exporter": "python",
   "pygments_lexer": "ipython3",
   "version": "3.11.11"
  }
 },
 "nbformat": 4,
 "nbformat_minor": 5
}
